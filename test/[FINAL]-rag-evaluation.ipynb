{
  "cells": [
    {
      "cell_type": "markdown",
      "metadata": {
        "id": "wa8ykQk92aLX"
      },
      "source": [
        "# Evaluation with RAGAS and Advanced Retrieval Methods Using LangChain"
      ]
    },
    {
      "cell_type": "code",
      "execution_count": 1,
      "metadata": {
        "id": "5BN13TZlSCv4"
      },
      "outputs": [
        {
          "name": "stdout",
          "output_type": "stream",
          "text": [
            "\u001b[33m  DEPRECATION: sgmllib3k is being installed using the legacy 'setup.py install' method, because it does not have a 'pyproject.toml' and the 'wheel' package is not installed. pip 23.1 will enforce this behaviour change. A possible replacement is to enable the '--use-pep517' option. Discussion can be found at https://github.com/pypa/pip/issues/8559\u001b[0m\u001b[33m\n",
            "\u001b[0m\u001b[33m  DEPRECATION: grpcio is being installed using the legacy 'setup.py install' method, because it does not have a 'pyproject.toml' and the 'wheel' package is not installed. pip 23.1 will enforce this behaviour change. A possible replacement is to enable the '--use-pep517' option. Discussion can be found at https://github.com/pypa/pip/issues/8559\u001b[0m\u001b[33m\n",
            "\u001b[0m\n",
            "\u001b[1m[\u001b[0m\u001b[34;49mnotice\u001b[0m\u001b[1;39;49m]\u001b[0m\u001b[39;49m A new release of pip is available: \u001b[0m\u001b[31;49m23.0.1\u001b[0m\u001b[39;49m -> \u001b[0m\u001b[32;49m24.3.1\u001b[0m\n",
            "\u001b[1m[\u001b[0m\u001b[34;49mnotice\u001b[0m\u001b[1;39;49m]\u001b[0m\u001b[39;49m To update, run: \u001b[0m\u001b[32;49mpip install --upgrade pip\u001b[0m\n"
          ]
        }
      ],
      "source": [
        "!pip install -U -q langchain openai ragas arxiv pymupdf chromadb wandb tiktoken"
      ]
    },
    {
      "cell_type": "code",
      "execution_count": 2,
      "metadata": {
        "colab": {
          "base_uri": "https://localhost:8080/"
        },
        "id": "8Lhqp5rUThG-",
        "outputId": "c33f7eee-b819-40bd-dc75-ce90721a6a94"
      },
      "outputs": [],
      "source": [
        "import os\n",
        "import openai\n",
        "from getpass import getpass\n",
        "\n",
        "openai.api_key = getpass(\"Please enter your OpenAI Key: \")\n",
        "os.environ[\"OPENAI_API_KEY\"] = openai.api_key"
      ]
    },
    {
      "cell_type": "markdown",
      "metadata": {
        "id": "DV_BOewX8CW0"
      },
      "source": [
        "### Data Collection\n",
        "\n",
        "We're going to be using papers from Arxiv as our context today.\n",
        "\n",
        "We can collect these documents rather straightforwardly with the `ArxivLoader` document loader from LangChain.\n",
        "\n",
        "Let's grab and load 5 documents.\n",
        "\n",
        "- [`ArxivLoader`](https://api.python.langchain.com/en/latest/document_loaders/langchain.document_loaders.arxiv.ArxivLoader.html)"
      ]
    },
    {
      "cell_type": "code",
      "execution_count": 60,
      "metadata": {
        "colab": {
          "base_uri": "https://localhost:8080/"
        },
        "id": "DTDNFXaBSO2j",
        "outputId": "3b24521d-5c6f-466b-d818-46ce68d359ee"
      },
      "outputs": [
        {
          "name": "stdout",
          "output_type": "stream",
          "text": [
            "Number of pages loaded: 13\n"
          ]
        }
      ],
      "source": [
        "from langchain.document_loaders import PyPDFLoader\n",
        "\n",
        "# Specify the path to your local PDF file\n",
        "pdf_path = \"./scikit22.pdf\"\n",
        "\n",
        "# Load the PDF document\n",
        "loader = PyPDFLoader(pdf_path)\n",
        "base_docs = loader.load()\n",
        "\n",
        "# Check the number of documents loaded\n",
        "print(f\"Number of pages loaded: {len(base_docs)}\")\n"
      ]
    },
    {
      "cell_type": "code",
      "execution_count": null,
      "metadata": {},
      "outputs": [],
      "source": []
    },
    {
      "cell_type": "code",
      "execution_count": 61,
      "metadata": {
        "colab": {
          "base_uri": "https://localhost:8080/"
        },
        "id": "nNPAWPgNSyGP",
        "outputId": "b2f80fc8-792c-489a-b8d4-9f98678c679a"
      },
      "outputs": [
        {
          "name": "stdout",
          "output_type": "stream",
          "text": [
            "{'source': './scikit22.pdf', 'page': 0}\n",
            "{'source': './scikit22.pdf', 'page': 1}\n",
            "{'source': './scikit22.pdf', 'page': 2}\n",
            "{'source': './scikit22.pdf', 'page': 3}\n",
            "{'source': './scikit22.pdf', 'page': 4}\n",
            "{'source': './scikit22.pdf', 'page': 5}\n",
            "{'source': './scikit22.pdf', 'page': 6}\n",
            "{'source': './scikit22.pdf', 'page': 7}\n",
            "{'source': './scikit22.pdf', 'page': 8}\n",
            "{'source': './scikit22.pdf', 'page': 9}\n",
            "{'source': './scikit22.pdf', 'page': 10}\n",
            "{'source': './scikit22.pdf', 'page': 11}\n",
            "{'source': './scikit22.pdf', 'page': 12}\n"
          ]
        }
      ],
      "source": [
        "for doc in base_docs:\n",
        "  print(doc.metadata)"
      ]
    },
    {
      "cell_type": "markdown",
      "metadata": {
        "id": "Z7ht6bJX9PAY"
      },
      "source": [
        "### Creating an Index\n",
        "\n",
        "Let's use a naive index creation strategy of just using `RecursiveCharacterTextSplitter` on our documents and embedding each into our `VectorStore` using `OpenAIEmbeddings()`.\n",
        "\n",
        "- [`RecursiveCharacterTextSplitter()`](https://api.python.langchain.com/en/latest/text_splitter/langchain.text_splitter.RecursiveCharacterTextSplitter.html)\n",
        "- [`Chroma`](https://api.python.langchain.com/en/latest/vectorstores/langchain.vectorstores.chroma.Chroma.html?highlight=chroma#langchain.vectorstores.chroma.Chroma)\n",
        "- [`OpenAIEmbeddings()`](https://api.python.langchain.com/en/latest/embeddings/langchain.embeddings.openai.OpenAIEmbeddings.html?highlight=openaiembeddings#langchain-embeddings-openai-openaiembeddings)"
      ]
    },
    {
      "cell_type": "code",
      "execution_count": 62,
      "metadata": {
        "id": "xne8P5dQTUiR"
      },
      "outputs": [],
      "source": [
        "from langchain.vectorstores import Chroma\n",
        "from langchain.embeddings import OpenAIEmbeddings\n",
        "from langchain.text_splitter import RecursiveCharacterTextSplitter\n",
        "\n",
        "text_splitter = RecursiveCharacterTextSplitter(chunk_size=250)\n",
        "\n",
        "docs = text_splitter.split_documents(base_docs)\n",
        "\n",
        "vectorstore = Chroma.from_documents(docs, OpenAIEmbeddings())"
      ]
    },
    {
      "cell_type": "code",
      "execution_count": 63,
      "metadata": {
        "colab": {
          "base_uri": "https://localhost:8080/"
        },
        "id": "cnRzYx4c_2mZ",
        "outputId": "59d9bdd8-0414-4e8b-c285-bf3a2760e26a"
      },
      "outputs": [
        {
          "data": {
            "text/plain": [
              "175"
            ]
          },
          "execution_count": 63,
          "metadata": {},
          "output_type": "execute_result"
        }
      ],
      "source": [
        "len(docs)"
      ]
    },
    {
      "cell_type": "code",
      "execution_count": 64,
      "metadata": {
        "colab": {
          "base_uri": "https://localhost:8080/"
        },
        "id": "WyUh8EVI_6TZ",
        "outputId": "643fca9d-77c0-4296-d953-ec62d6de8954"
      },
      "outputs": [
        {
          "name": "stdout",
          "output_type": "stream",
          "text": [
            "249\n"
          ]
        }
      ],
      "source": [
        "print(max([len(chunk.page_content) for chunk in docs]))"
      ]
    },
    {
      "cell_type": "code",
      "execution_count": 65,
      "metadata": {
        "id": "bwbdftltT29h"
      },
      "outputs": [],
      "source": [
        "# convert our `Chroma` vectorstore into a retriever with the `.as_retriever()` method.\n",
        "\n",
        "base_retriever = vectorstore.as_retriever(search_kwargs={\"k\" : 2})"
      ]
    },
    {
      "cell_type": "code",
      "execution_count": 66,
      "metadata": {
        "id": "r0Pie4xqUCkW"
      },
      "outputs": [],
      "source": [
        "relevant_docs = base_retriever.get_relevant_documents(\"What is regression?\")"
      ]
    },
    {
      "cell_type": "code",
      "execution_count": 67,
      "metadata": {
        "colab": {
          "base_uri": "https://localhost:8080/"
        },
        "id": "Z_CiHTD0UKj7",
        "outputId": "fab040cf-971f-440a-a6aa-93873c8e152f"
      },
      "outputs": [
        {
          "data": {
            "text/plain": [
              "[Document(metadata={'page': 12, 'source': './scikit2.pdf'}, page_content='Regression\\n▶ Classiﬁcation vs. Regression 1:\\n▶ Classify for categorical output\\n▶ Regression: predicting continuous-valued attribute(s)\\n▶ Can be ”by-products” of classiﬁcation methods, e.g.:\\nRandomForestClassifier and RandomForestRegressor, or'),\n",
              " Document(metadata={'page': 5, 'source': './scikit22.pdf'}, page_content='1.5.2. Regression\\nThe class SGDRegressor implements a plain stochastic gradient descent learning routine which\\nsupports different loss functions and penalties to fit linear regression models. SGDRegressor is')]"
            ]
          },
          "execution_count": 67,
          "metadata": {},
          "output_type": "execute_result"
        }
      ],
      "source": [
        "len(relevant_docs)\n",
        "relevant_docs"
      ]
    },
    {
      "cell_type": "markdown",
      "metadata": {
        "id": "D8MKsT6JTgCU"
      },
      "source": [
        "## Creating a Retrieval Augmented Generation Prompt\n",
        "\n",
        "Now we can set up a prompt template that will be used to provide the LLM with the necessary contexts, user query, and instructions!"
      ]
    },
    {
      "cell_type": "code",
      "execution_count": 68,
      "metadata": {
        "id": "ijSNkTAjTsep"
      },
      "outputs": [],
      "source": [
        "from langchain.prompts import ChatPromptTemplate\n",
        "\n",
        "template = \"\"\"Answer the question based only on the following context. If you cannot answer the question with the context, please respond with 'I don't know':\n",
        "\n",
        "### CONTEXT\n",
        "{context}\n",
        "\n",
        "### QUESTION\n",
        "Question: {question}\n",
        "\"\"\"\n",
        "\n",
        "prompt = ChatPromptTemplate.from_template(template)"
      ]
    },
    {
      "cell_type": "markdown",
      "metadata": {
        "id": "BYHnPaXl-cvJ"
      },
      "source": [
        "### Setting Up our Basic QA Chain"
      ]
    },
    {
      "cell_type": "code",
      "execution_count": 69,
      "metadata": {
        "id": "-TsjUWjbUfbW"
      },
      "outputs": [],
      "source": [
        "from operator import itemgetter\n",
        "\n",
        "from langchain.chat_models import ChatOpenAI\n",
        "from langchain.schema.output_parser import StrOutputParser\n",
        "from langchain.schema.runnable import RunnableLambda, RunnablePassthrough\n",
        "\n",
        "primary_qa_llm = ChatOpenAI(model_name=\"gpt-3.5-turbo\", temperature=0)\n",
        "\n",
        "retrieval_augmented_qa_chain = (\n",
        "    # INVOKE CHAIN WITH: {\"question\" : \"<<SOME USER QUESTION>>\"}\n",
        "    # \"question\" : populated by getting the value of the \"question\" key\n",
        "    # \"context\"  : populated by getting the value of the \"question\" key and chaining it into the base_retriever\n",
        "    {\"context\": itemgetter(\"question\") | base_retriever, \"question\": itemgetter(\"question\")}\n",
        "    # \"context\"  : is assigned to a RunnablePassthrough object (will not be called or considered in the next step)\n",
        "    #              by getting the value of the \"context\" key from the previous step\n",
        "    | RunnablePassthrough.assign(context=itemgetter(\"context\"))\n",
        "    # \"response\" : the \"context\" and \"question\" values are used to format our prompt object and then piped\n",
        "    #              into the LLM and stored in a key called \"response\"\n",
        "    # \"context\"  : populated by getting the value of the \"context\" key from the previous step\n",
        "    | {\"response\": prompt | primary_qa_llm, \"context\": itemgetter(\"context\")}\n",
        ")"
      ]
    },
    {
      "cell_type": "code",
      "execution_count": 70,
      "metadata": {
        "colab": {
          "base_uri": "https://localhost:8080/"
        },
        "id": "2FS5NxC6UyU2",
        "outputId": "2520bf73-9e62-435c-a213-c26d0655a913"
      },
      "outputs": [
        {
          "name": "stdout",
          "output_type": "stream",
          "text": [
            "{'response': AIMessage(content='unconstrained optimization problems.', additional_kwargs={}, response_metadata={'token_usage': {'completion_tokens': 6, 'prompt_tokens': 190, 'total_tokens': 196, 'completion_tokens_details': {'accepted_prediction_tokens': 0, 'audio_tokens': 0, 'reasoning_tokens': 0, 'rejected_prediction_tokens': 0}, 'prompt_tokens_details': {'audio_tokens': 0, 'cached_tokens': 0}}, 'model_name': 'gpt-3.5-turbo', 'system_fingerprint': None, 'finish_reason': 'stop', 'logprobs': None}, id='run-68617c9f-dd08-4442-8583-403ca478452f-0'), 'context': [Document(metadata={'page': 11, 'source': './scikit22.pdf'}, page_content='Stochastic gradient descent is an optimization method for unconstrained optimization problems.\\nIn contrast to (batch) gradient descent, SGD approximates the true gradient of  by\\nconsidering a single training example at a time.'), Document(metadata={'page': 0, 'source': './scikit22.pdf'}, page_content='1.5. Stochastic Gradient Descent\\nStochastic Gradient Descent (SGD) is a simple yet very efficient approach to fitting linear\\nclassifiers and regressors under convex loss functions such as (linear) Support Vector Machines')]}\n"
          ]
        }
      ],
      "source": [
        "question = \"Stochastic gradient descent is an optimization method for...\"\n",
        "\n",
        "result = retrieval_augmented_qa_chain.invoke({\"question\" : question})\n",
        "\n",
        "print(result)"
      ]
    },
    {
      "cell_type": "markdown",
      "metadata": {
        "id": "7Al5cagr-rvL"
      },
      "source": [
        "### Evaluating RAG Pipelines\n",
        "\n",
        "If you skipped ahead and need to load the `.csv` directly - uncomment the code below.\n",
        "\n",
        "If you're using Colab to do this notebook - please ensure you add it to your session files."
      ]
    },
    {
      "cell_type": "code",
      "execution_count": 71,
      "metadata": {
        "id": "QJhes58R66-P"
      },
      "outputs": [
        {
          "name": "stdout",
          "output_type": "stream",
          "text": [
            "Dataset loaded with 20 rows\n"
          ]
        }
      ],
      "source": [
        "# from datasets import Dataset\n",
        "# # eval_dataset = Dataset.from_csv(\"./nba.csv\")\n",
        "# eval_dataset = Dataset.from_csv(\"./scikit.csv\")\n",
        "\n",
        "import pandas as pd\n",
        "from datasets import Dataset\n",
        "\n",
        "# Try reading the CSV with a specific encoding\n",
        "eval_dataset = pd.read_csv(\"./scikit.csv\", encoding='ISO-8859-1')  # or encoding='Windows-1252'\n",
        "\n",
        "print(f\"Dataset loaded with {len(eval_dataset)} rows\")\n",
        "\n",
        "# eval_dataset = Dataset.from_pandas(df)\n"
      ]
    },
    {
      "cell_type": "code",
      "execution_count": 72,
      "metadata": {
        "colab": {
          "base_uri": "https://localhost:8080/"
        },
        "id": "5fAD8c_kthWc",
        "outputId": "e722498d-3179-4cf1-e206-29a27163ace5"
      },
      "outputs": [
        {
          "data": {
            "text/html": [
              "<div>\n",
              "<style scoped>\n",
              "    .dataframe tbody tr th:only-of-type {\n",
              "        vertical-align: middle;\n",
              "    }\n",
              "\n",
              "    .dataframe tbody tr th {\n",
              "        vertical-align: top;\n",
              "    }\n",
              "\n",
              "    .dataframe thead th {\n",
              "        text-align: right;\n",
              "    }\n",
              "</style>\n",
              "<table border=\"1\" class=\"dataframe\">\n",
              "  <thead>\n",
              "    <tr style=\"text-align: right;\">\n",
              "      <th></th>\n",
              "      <th>question</th>\n",
              "      <th>context</th>\n",
              "      <th>ground_truth</th>\n",
              "    </tr>\n",
              "  </thead>\n",
              "  <tbody>\n",
              "    <tr>\n",
              "      <th>0</th>\n",
              "      <td>Logistic regression classifier has different s...</td>\n",
              "      <td>Algorithm:\\n\\nLogistic Regression ('sag'/'saga...</td>\n",
              "      <td>Logistic Regression with 'sag'/'saga' solvers ...</td>\n",
              "    </tr>\n",
              "    <tr>\n",
              "      <th>1</th>\n",
              "      <td>How gaussian mixture models work?\\n\\nI am give...</td>\n",
              "      <td>For your example:\\nGiven: Two normal distribut...</td>\n",
              "      <td>Gaussian Mixture Models (GMMs) estimate parame...</td>\n",
              "    </tr>\n",
              "    <tr>\n",
              "      <th>2</th>\n",
              "      <td>I'm working in a sklearn homework and I don't ...</td>\n",
              "      <td>When preprocessing:\\n\\nTraining set: Compute t...</td>\n",
              "      <td>Standardizing and normalizing the test data wi...</td>\n",
              "    </tr>\n",
              "    <tr>\n",
              "      <th>3</th>\n",
              "      <td>I have a collection of very large images. I te...</td>\n",
              "      <td>Spectral clustering involves creating a simila...</td>\n",
              "      <td>The Nystroem approximation can significantly r...</td>\n",
              "    </tr>\n",
              "    <tr>\n",
              "      <th>4</th>\n",
              "      <td>how does sklearn's gaussian mixture model avoi...</td>\n",
              "      <td>When working with Gaussian Mixture Models, com...</td>\n",
              "      <td>Scikit-learn's Gaussian Mixture Model (GMM) av...</td>\n",
              "    </tr>\n",
              "    <tr>\n",
              "      <th>5</th>\n",
              "      <td>Procedure for selecting optimal number of feat...</td>\n",
              "      <td>The response is based on the general understan...</td>\n",
              "      <td>The approach of using PCA, SelectFromModel, an...</td>\n",
              "    </tr>\n",
              "    <tr>\n",
              "      <th>6</th>\n",
              "      <td>I have trained a classifier on 'Rocks and Mine...</td>\n",
              "      <td>This answer is based on the understanding of c...</td>\n",
              "      <td>It is likely that your model is overfitting or...</td>\n",
              "    </tr>\n",
              "    <tr>\n",
              "      <th>7</th>\n",
              "      <td>After reading sklearn manual it was not very o...</td>\n",
              "      <td>This explanation is based on the CalibratedCla...</td>\n",
              "      <td>Isotonic regression in the context of probabil...</td>\n",
              "    </tr>\n",
              "    <tr>\n",
              "      <th>8</th>\n",
              "      <td>How do you choose the feature selection algori...</td>\n",
              "      <td>Based on scikit-learnâs feature selection me...</td>\n",
              "      <td>Feature selection depends on the dataset and m...</td>\n",
              "    </tr>\n",
              "    <tr>\n",
              "      <th>9</th>\n",
              "      <td>I have a dataset of images that I would like t...</td>\n",
              "      <td>In scikit-learn, PCA is commonly used for meas...</td>\n",
              "      <td>In scikit-learn, non-linear dimensionality red...</td>\n",
              "    </tr>\n",
              "    <tr>\n",
              "      <th>10</th>\n",
              "      <td>Does running a Decision Tree classifier severa...</td>\n",
              "      <td>If you want variations in the results, try run...</td>\n",
              "      <td>Running a Decision Tree classifier multiple ti...</td>\n",
              "    </tr>\n",
              "    <tr>\n",
              "      <th>11</th>\n",
              "      <td>I am building a classification model for Iris ...</td>\n",
              "      <td>Hereâs how you can troubleshoot and solve th...</td>\n",
              "      <td>The ImportError you're encountering typically ...</td>\n",
              "    </tr>\n",
              "    <tr>\n",
              "      <th>12</th>\n",
              "      <td>Do you know if models from scikit-learn use au...</td>\n",
              "      <td>However, many scikit-learn models allow parall...</td>\n",
              "      <td>Scikit-learn models do not automatically use m...</td>\n",
              "    </tr>\n",
              "    <tr>\n",
              "      <th>13</th>\n",
              "      <td>I'm working on a classification problem with u...</td>\n",
              "      <td>Scikit-learnâs default classification relies...</td>\n",
              "      <td>Default Threshold: predict() uses a 0.5 thresh...</td>\n",
              "    </tr>\n",
              "    <tr>\n",
              "      <th>14</th>\n",
              "      <td>m trying to use one of scikit-learn's supervis...</td>\n",
              "      <td>Scikit-learn classifiers are generally designe...</td>\n",
              "      <td>Multi-label Classification: Use MultiLabelBina...</td>\n",
              "    </tr>\n",
              "    <tr>\n",
              "      <th>15</th>\n",
              "      <td>Today i'm trying to learn something about K-me...</td>\n",
              "      <td>This method identifies the optimal number of c...</td>\n",
              "      <td>Yes, the elbow method involves running K-Means...</td>\n",
              "    </tr>\n",
              "    <tr>\n",
              "      <th>16</th>\n",
              "      <td>How can I find the p-value (significance) of e...</td>\n",
              "      <td>Scikit-learn focuses on machine learning appli...</td>\n",
              "      <td>Scikit-learn's LinearRegression does not direc...</td>\n",
              "    </tr>\n",
              "    <tr>\n",
              "      <th>17</th>\n",
              "      <td>When choosing the number of principal componen...</td>\n",
              "      <td>explained_variance_ratio_ gives the variance c...</td>\n",
              "      <td>Yes, in Scikit-learn, setting pca.explained_va...</td>\n",
              "    </tr>\n",
              "    <tr>\n",
              "      <th>18</th>\n",
              "      <td>scikit-learn is installed as part of the tens...</td>\n",
              "      <td>Scikit-learn is designed for efficient impleme...</td>\n",
              "      <td>Scikit-learn and TensorFlow serve different pu...</td>\n",
              "    </tr>\n",
              "    <tr>\n",
              "      <th>19</th>\n",
              "      <td>I have a fairly large dataset in the form of a...</td>\n",
              "      <td>This method is a standard approach used in mac...</td>\n",
              "      <td>According to the scikit-learn documentation, t...</td>\n",
              "    </tr>\n",
              "  </tbody>\n",
              "</table>\n",
              "</div>"
            ],
            "text/plain": [
              "                                             question  \\\n",
              "0   Logistic regression classifier has different s...   \n",
              "1   How gaussian mixture models work?\\n\\nI am give...   \n",
              "2   I'm working in a sklearn homework and I don't ...   \n",
              "3   I have a collection of very large images. I te...   \n",
              "4   how does sklearn's gaussian mixture model avoi...   \n",
              "5   Procedure for selecting optimal number of feat...   \n",
              "6   I have trained a classifier on 'Rocks and Mine...   \n",
              "7   After reading sklearn manual it was not very o...   \n",
              "8   How do you choose the feature selection algori...   \n",
              "9   I have a dataset of images that I would like t...   \n",
              "10  Does running a Decision Tree classifier severa...   \n",
              "11  I am building a classification model for Iris ...   \n",
              "12  Do you know if models from scikit-learn use au...   \n",
              "13  I'm working on a classification problem with u...   \n",
              "14  m trying to use one of scikit-learn's supervis...   \n",
              "15  Today i'm trying to learn something about K-me...   \n",
              "16  How can I find the p-value (significance) of e...   \n",
              "17  When choosing the number of principal componen...   \n",
              "18   scikit-learn is installed as part of the tens...   \n",
              "19  I have a fairly large dataset in the form of a...   \n",
              "\n",
              "                                              context  \\\n",
              "0   Algorithm:\\n\\nLogistic Regression ('sag'/'saga...   \n",
              "1   For your example:\\nGiven: Two normal distribut...   \n",
              "2   When preprocessing:\\n\\nTraining set: Compute t...   \n",
              "3   Spectral clustering involves creating a simila...   \n",
              "4   When working with Gaussian Mixture Models, com...   \n",
              "5   The response is based on the general understan...   \n",
              "6   This answer is based on the understanding of c...   \n",
              "7   This explanation is based on the CalibratedCla...   \n",
              "8   Based on scikit-learnâs feature selection me...   \n",
              "9   In scikit-learn, PCA is commonly used for meas...   \n",
              "10  If you want variations in the results, try run...   \n",
              "11  Hereâs how you can troubleshoot and solve th...   \n",
              "12  However, many scikit-learn models allow parall...   \n",
              "13  Scikit-learnâs default classification relies...   \n",
              "14  Scikit-learn classifiers are generally designe...   \n",
              "15  This method identifies the optimal number of c...   \n",
              "16  Scikit-learn focuses on machine learning appli...   \n",
              "17  explained_variance_ratio_ gives the variance c...   \n",
              "18  Scikit-learn is designed for efficient impleme...   \n",
              "19  This method is a standard approach used in mac...   \n",
              "\n",
              "                                         ground_truth  \n",
              "0   Logistic Regression with 'sag'/'saga' solvers ...  \n",
              "1   Gaussian Mixture Models (GMMs) estimate parame...  \n",
              "2   Standardizing and normalizing the test data wi...  \n",
              "3   The Nystroem approximation can significantly r...  \n",
              "4   Scikit-learn's Gaussian Mixture Model (GMM) av...  \n",
              "5   The approach of using PCA, SelectFromModel, an...  \n",
              "6   It is likely that your model is overfitting or...  \n",
              "7   Isotonic regression in the context of probabil...  \n",
              "8   Feature selection depends on the dataset and m...  \n",
              "9   In scikit-learn, non-linear dimensionality red...  \n",
              "10  Running a Decision Tree classifier multiple ti...  \n",
              "11  The ImportError you're encountering typically ...  \n",
              "12  Scikit-learn models do not automatically use m...  \n",
              "13  Default Threshold: predict() uses a 0.5 thresh...  \n",
              "14  Multi-label Classification: Use MultiLabelBina...  \n",
              "15  Yes, the elbow method involves running K-Means...  \n",
              "16  Scikit-learn's LinearRegression does not direc...  \n",
              "17  Yes, in Scikit-learn, setting pca.explained_va...  \n",
              "18  Scikit-learn and TensorFlow serve different pu...  \n",
              "19  According to the scikit-learn documentation, t...  "
            ]
          },
          "execution_count": 72,
          "metadata": {},
          "output_type": "execute_result"
        }
      ],
      "source": [
        "eval_dataset"
      ]
    },
    {
      "cell_type": "markdown",
      "metadata": {
        "id": "IqFYbjLK-6X7"
      },
      "source": [
        "### Evaluation Using RAGAS\n",
        "\n",
        "Now we can evaluate using RAGAS!\n",
        "\n",
        "The set-up is fairly straightforward - we simply need to create a dataset with our generated answers and our contexts, and then evaluate using the framework."
      ]
    },
    {
      "cell_type": "code",
      "execution_count": 73,
      "metadata": {},
      "outputs": [
        {
          "name": "stdout",
          "output_type": "stream",
          "text": [
            "['AgentGoalAccuracyWithReference', 'AgentGoalAccuracyWithoutReference', 'AnswerCorrectness', 'AnswerRelevancy', 'AnswerSimilarity', 'AspectCritic', 'BleuScore', 'ContextEntityRecall', 'ContextPrecision', 'ContextRecall', 'ContextUtilization', 'DataCompyScore', 'DistanceMeasure', 'ExactMatch', 'FactualCorrectness', 'Faithfulness', 'FaithfulnesswithHHEM', 'InstanceRubrics', 'LLMContextPrecisionWithReference', 'LLMContextPrecisionWithoutReference', 'LLMContextRecall', 'LLMSQLEquivalence', 'Metric', 'MetricOutputType', 'MetricType', 'MetricWithEmbeddings', 'MetricWithLLM', 'MultiModalFaithfulness', 'MultiModalRelevance', 'MultiTurnMetric', 'NoiseSensitivity', 'NonLLMContextPrecisionWithReference', 'NonLLMContextRecall', 'NonLLMStringSimilarity', 'ResponseRelevancy', 'RougeScore', 'RubricsScore', 'SemanticSimilarity', 'SimpleCriteriaScore', 'SingleTurnMetric', 'StringPresence', 'SummarizationScore', 'ToolCallAccuracy', 'TopicAdherenceScore', '__all__', '__builtins__', '__cached__', '__doc__', '__file__', '__loader__', '__name__', '__package__', '__path__', '__spec__', '_answer_correctness', '_answer_relevance', '_answer_similarity', '_aspect_critic', '_bleu_score', '_context_entities_recall', '_context_precision', '_context_recall', '_datacompy_score', '_domain_specific_rubrics', '_factual_correctness', '_faithfulness', '_goal_accuracy', '_instance_specific_rubrics', '_multi_modal_faithfulness', '_multi_modal_relevance', '_noise_sensitivity', '_rouge_score', '_simple_criteria', '_sql_semantic_equivalence', '_string', '_summarization', '_tool_call_accuracy', '_topic_adherence', 'answer_correctness', 'answer_relevancy', 'answer_similarity', 'base', 'context_entity_recall', 'context_precision', 'context_recall', 'faithfulness', 'multimodal_faithness', 'multimodal_relevance', 'summarization_score', 'utils']\n"
          ]
        }
      ],
      "source": [
        "import ragas.metrics\n",
        "print(dir(ragas.metrics))\n"
      ]
    },
    {
      "cell_type": "code",
      "execution_count": 121,
      "metadata": {
        "id": "1eBoHaf5t4w8"
      },
      "outputs": [],
      "source": [
        "# from tqdm import tqdm\n",
        "\n",
        "# from ragas.metrics import (\n",
        "#     answer_relevancy,\n",
        "#     faithfulness,\n",
        "#     context_recall,\n",
        "#     context_precision,\n",
        "#     answer_correctness,\n",
        "#     answer_similarity\n",
        "# )\n",
        "\n",
        "# # from ragas.metrics.critique import harmfulness\n",
        "# from ragas import evaluate\n",
        "\n",
        "# # def create_ragas_dataset(rag_pipeline, eval_dataset):\n",
        "# #   rag_dataset = []\n",
        "# #   for row in tqdm(eval_dataset):\n",
        "# #     answer = rag_pipeline.invoke({\"question\" : row[\"question\"]})\n",
        "# #     rag_dataset.append(\n",
        "# #         {\"question\" : row[\"question\"],\n",
        "# #          \"answer\" : answer[\"response\"].content,\n",
        "# #          \"contexts\" : [context.page_content for context in answer[\"context\"]],\n",
        "# #          \"ground_truths\" : [row[\"ground_truth\"]]\n",
        "# #          }\n",
        "# #     )\n",
        "# #   rag_df = pd.DataFrame(rag_dataset)\n",
        "# #   rag_eval_dataset = Dataset.from_pandas(rag_df)\n",
        "# #   return rag_eval_dataset\n",
        "\n",
        "# # from tqdm import tqdm\n",
        "# # import pandas as pd\n",
        "# # from datasets import Dataset\n",
        "\n",
        "# from tqdm import tqdm\n",
        "# import pandas as pd\n",
        "# from datasets import Dataset\n",
        "\n",
        "# def create_ragas_dataset(rag_pipeline, eval_dataset):\n",
        "#     rag_dataset = []\n",
        "#     for _, row in eval_dataset.iterrows():\n",
        "#         try:\n",
        "#             answer = rag_pipeline.invoke({\"question\": row[\"question\"]})\n",
        "            \n",
        "#             # Validate pipeline output\n",
        "#             if not isinstance(answer, dict) or \"response\" not in answer or \"context\" not in answer:\n",
        "#                 raise ValueError(\"Invalid pipeline output structure.\")\n",
        "            \n",
        "#             # Append valid data\n",
        "#             rag_dataset.append(\n",
        "#                 {\n",
        "#                     \"question\": row[\"question\"],\n",
        "#                     \"answer\": answer[\"response\"].content if \"response\" in answer else \"\",\n",
        "#                     \"contexts\": [context.page_content for context in answer.get(\"context\", [])],\n",
        "#                     \"reference\": row[\"ground_truth\"] if \"ground_truth\" in row else \"\",\n",
        "#                 }\n",
        "#             )\n",
        "#         except Exception as e:\n",
        "#             print(f\"Error processing row with question '{row.get('question', 'N/A')}'\\n{e}\")\n",
        "#     return Dataset.from_pandas(pd.DataFrame(rag_dataset))\n",
        "\n",
        "\n",
        "\n",
        "\n",
        "# # def evaluate_ragas_dataset(ragas_dataset):\n",
        "# #   result = evaluate(\n",
        "# #     ragas_dataset,\n",
        "# #     metrics=[\n",
        "# #         context_precision,\n",
        "# #         faithfulness,\n",
        "# #         answer_relevancy,\n",
        "# #         context_recall,\n",
        "# #         answer_correctness,\n",
        "# #         answer_similarity\n",
        "# #     ],\n",
        "# #   )\n",
        "# #   return result\n",
        "\n",
        "# def evaluate_ragas_dataset(ragas_dataset):\n",
        "#     try:\n",
        "#         # Pass the entire dataset to the evaluate function\n",
        "#         result = evaluate(\n",
        "#             ragas_dataset,\n",
        "#             metrics=[\n",
        "#                 context_precision,\n",
        "#                 faithfulness,\n",
        "#                 answer_relevancy,\n",
        "#                 context_recall,\n",
        "#                 answer_correctness,\n",
        "#                 answer_similarity\n",
        "#             ],\n",
        "#         )\n",
        "#         return result\n",
        "#     except Exception as e:\n",
        "#         print(f\"Error during evaluation: {e}\")\n",
        "#         return None\n",
        "\n",
        "\n"
      ]
    },
    {
      "cell_type": "code",
      "execution_count": 133,
      "metadata": {},
      "outputs": [],
      "source": [
        "from tqdm import tqdm\n",
        "import pandas as pd\n",
        "from datasets import Dataset\n",
        "from ragas.metrics import (\n",
        "    answer_relevancy,\n",
        "    faithfulness,\n",
        "    context_recall,\n",
        "    context_precision,\n",
        "    answer_correctness,\n",
        "    answer_similarity,\n",
        ")\n",
        "from ragas import evaluate\n",
        "\n",
        "\n",
        "def create_ragas_dataset(rag_pipeline, eval_dataset):\n",
        "    \"\"\"\n",
        "    Create a dataset compatible with Ragas evaluation from the retrieval-augmented QA pipeline.\n",
        "    \"\"\"\n",
        "    rag_dataset = []\n",
        "    for _, row in tqdm(eval_dataset.iterrows(), desc=\"Processing dataset\"):\n",
        "        try:\n",
        "            # Get the response from the pipeline\n",
        "            answer = rag_pipeline.invoke({\"question\": row[\"question\"]})\n",
        "\n",
        "            # Validate pipeline output\n",
        "            if not isinstance(answer, dict) or \"response\" not in answer or \"context\" not in answer:\n",
        "                raise ValueError(\"Invalid pipeline output structure.\")\n",
        "\n",
        "            # Ensure proper structure for Ragas dataset\n",
        "            rag_dataset.append(\n",
        "                {\n",
        "                    \"question\": row[\"question\"],\n",
        "                    \"answer\": answer[\"response\"].content if \"response\" in answer else \"\",\n",
        "                    \"contexts\": [context.page_content for context in answer.get(\"context\", [])],\n",
        "                    \"reference\": row[\"ground_truth\"] if \"ground_truth\" in row else \"\",\n",
        "                }\n",
        "            )\n",
        "        except Exception as e:\n",
        "            print(f\"Error processing row with question: {row.get('question', 'N/A')}\\n{e}\")\n",
        "            continue\n",
        "    return Dataset.from_pandas(pd.DataFrame(rag_dataset))\n",
        "\n",
        "\n",
        "def evaluate_ragas_dataset(ragas_dataset):\n",
        "    \"\"\"\n",
        "    Evaluate the RAG dataset using specified metrics and handle errors gracefully.\n",
        "    \"\"\"\n",
        "    try:\n",
        "        # Perform the evaluation\n",
        "        result = evaluate(\n",
        "            ragas_dataset,\n",
        "            metrics=[\n",
        "                context_precision,\n",
        "                faithfulness,\n",
        "                answer_relevancy,\n",
        "                context_recall,\n",
        "                answer_correctness,\n",
        "                answer_similarity,\n",
        "            ],\n",
        "        )\n",
        "        return result\n",
        "    except Exception as e:\n",
        "        print(f\"Error during evaluation: {e}\")\n",
        "        for i, row in enumerate(ragas_dataset):\n",
        "            print(f\"Row {i}: {row}\")\n",
        "        return None\n"
      ]
    },
    {
      "cell_type": "markdown",
      "metadata": {
        "id": "J4c4Jd8G_lXY"
      },
      "source": [
        "Lets create our dataset first:"
      ]
    },
    {
      "cell_type": "code",
      "execution_count": 136,
      "metadata": {},
      "outputs": [
        {
          "name": "stdout",
          "output_type": "stream",
          "text": [
            "<class 'pandas.core.frame.DataFrame'>\n",
            "(0, question        Logistic regression classifier has different s...\n",
            "context         Algorithm:\\n\\nLogistic Regression ('sag'/'saga...\n",
            "ground_truth    Logistic Regression with 'sag'/'saga' solvers ...\n",
            "Name: 0, dtype: object)\n"
          ]
        }
      ],
      "source": [
        "# Step 2: Check the structure of the dataset\n",
        "print(type(eval_dataset))\n",
        "for row in eval_dataset.iterrows():\n",
        "    print(row)\n",
        "    break"
      ]
    },
    {
      "cell_type": "code",
      "execution_count": 125,
      "metadata": {
        "colab": {
          "base_uri": "https://localhost:8080/"
        },
        "id": "R7oXgcjkuopO",
        "outputId": "6db1a904-90a2-4e47-85da-a442ebdc56b1"
      },
      "outputs": [
        {
          "name": "stderr",
          "output_type": "stream",
          "text": [
            "Processing dataset: 20it [00:16,  1.23it/s]\n"
          ]
        }
      ],
      "source": [
        "from tqdm import tqdm\n",
        "import pandas as pd\n",
        "\n",
        "basic_qa_ragas_dataset = create_ragas_dataset(retrieval_augmented_qa_chain, eval_dataset)"
      ]
    },
    {
      "cell_type": "code",
      "execution_count": 126,
      "metadata": {
        "colab": {
          "base_uri": "https://localhost:8080/"
        },
        "id": "nfzaFWEMZ5l_",
        "outputId": "60ca3e05-209a-4375-f24c-a23ad06e525e"
      },
      "outputs": [
        {
          "data": {
            "text/plain": [
              "Dataset({\n",
              "    features: ['question', 'answer', 'contexts', 'reference'],\n",
              "    num_rows: 20\n",
              "})"
            ]
          },
          "execution_count": 126,
          "metadata": {},
          "output_type": "execute_result"
        }
      ],
      "source": [
        "basic_qa_ragas_dataset"
      ]
    },
    {
      "cell_type": "code",
      "execution_count": 127,
      "metadata": {},
      "outputs": [
        {
          "name": "stdout",
          "output_type": "stream",
          "text": [
            "question: <class 'str'>\n",
            "answer: <class 'str'>\n",
            "contexts: <class 'list'>\n",
            "reference: <class 'str'>\n"
          ]
        }
      ],
      "source": [
        "for key, value in basic_qa_ragas_dataset[0].items():\n",
        "    print(f\"{key}: {type(value)}\")\n"
      ]
    },
    {
      "cell_type": "code",
      "execution_count": 128,
      "metadata": {
        "colab": {
          "base_uri": "https://localhost:8080/"
        },
        "id": "8Vv1NsRGZ6m5",
        "outputId": "2ef4fbd9-011e-42b7-88d9-11c79974d87e"
      },
      "outputs": [
        {
          "data": {
            "text/plain": [
              "{'question': 'How gaussian mixture models work?\\n\\nI am given an example:\\n\\nSuppose 1000 observations are drawn from N(0,1) and N(5,2) with mixing parameters ?1=0.2 and ?2=0.8 respectively. Suppose we only know ? and want to estimate ? and ?. How does one go about using Gaussian Mixture models to estimate these parameters? I know I have to use the EM algorithm but I do not know where to start. I want to use this simple example to get a better understanding of how it works.',\n",
              " 'answer': \"I don't know.\",\n",
              " 'contexts': ['We cannot answer that instantly, but consider the following requirements:\\n▶ How much training data do you have?\\n▶ Is your problem continuous or discrete?\\n▶ What is the ratio # features and #samples ?\\n▶ Do you need a sparse model?',\n",
              "  'What Method is the Best for Me?\\nWe cannot answer that instantly, but consider the following requirements:\\n▶ How much training data do you have?\\n▶ Is your problem continuous or discrete?\\n▶ What is the ratio # features and #samples ?'],\n",
              " 'reference': 'Gaussian Mixture Models (GMMs) estimate parameters (e.g., means, mixing weights) using the Expectation-Maximization (EM) algorithm, which alternates between two steps: 1. E-Step (Expectation): Compute the probability of each observation belonging to each component (soft assignments) using the current parameters.  2. M-Step (Maximization): Update the parameters (means, mixing coefficients, etc.) to maximize the likelihood based on these probabilities.'}"
            ]
          },
          "execution_count": 128,
          "metadata": {},
          "output_type": "execute_result"
        }
      ],
      "source": [
        "basic_qa_ragas_dataset[1]"
      ]
    },
    {
      "cell_type": "markdown",
      "metadata": {
        "id": "Obbgw3im_n01"
      },
      "source": [
        "Save it for later:"
      ]
    },
    {
      "cell_type": "code",
      "execution_count": 129,
      "metadata": {
        "colab": {
          "base_uri": "https://localhost:8080/",
          "height": 66,
          "referenced_widgets": [
            "86761a36bdb04fed9f1dae6e74da54ce",
            "e079c0eb3d9c4ae3a40491f059a864f7",
            "d4bde97f3895450782030cad7808ea59",
            "1d17b8847ab34a1d8fc79430e8b64a12",
            "fb953d8d116e4cc389dbc23a0055873f",
            "bf27f78edb15477492fb2d5dd8dc5137",
            "ee96a569b8a54944bcac1b1bc164e53e",
            "e556e254882340168833ecf1a7153a90",
            "c077837b8b044c2fb14dcd8fbc44a37b",
            "e5c8b5933c754a1192456f43682276c5",
            "84abf77081a04bb686f794b49e04761d"
          ]
        },
        "id": "6FG8x4i3yZ2B",
        "outputId": "52eb909f-69be-4c80-d9bc-77c2842bf14d"
      },
      "outputs": [
        {
          "name": "stderr",
          "output_type": "stream",
          "text": [
            "Creating CSV from Arrow format: 100%|██████████| 1/1 [00:00<00:00, 80.58ba/s]\n"
          ]
        },
        {
          "data": {
            "text/plain": [
              "27811"
            ]
          },
          "execution_count": 129,
          "metadata": {},
          "output_type": "execute_result"
        }
      ],
      "source": [
        "basic_qa_ragas_dataset.to_csv(\"basic_qa_ragas_dataset.csv\")"
      ]
    },
    {
      "cell_type": "markdown",
      "metadata": {
        "id": "A5I_d_RT_pFr"
      },
      "source": [
        "And finally - evaluate how it did!"
      ]
    },
    {
      "cell_type": "code",
      "execution_count": 132,
      "metadata": {},
      "outputs": [
        {
          "name": "stdout",
          "output_type": "stream",
          "text": [
            "{'question': \"Logistic regression classifier has different solvers and one of them is 'sgd'\\n\\nIt also has a different classifier 'SGDClassifier' and the loss parameter can be mentioned as 'log' for logistic regression.\\n\\nAre they essentially the same or different? If they are different, how different is the implementation between two? And how do you decide which one to use given the problem of logistic regression?\\n\", 'answer': 'They are essentially the same. The only difference is that LogisticRegression can be fitted using different solvers, while SGDClassifier specifically fits logistic regression using stochastic gradient descent. The decision on which one to use may depend on the size of the dataset and computational resources available.', 'contexts': [\"LogisticRegression which is fitted via SGD instead of being fitted by one of the other solvers in\\nLogisticRegression. Similarly, SGDRegressor(loss='squared_error', penalty='l2') and\\nRidge solve the same optimization problem, via different means.\", \"SGDClassifier(loss='log_loss') results in logistic regression, i.e. a model equivalent to\\nLogisticRegression which is fitted via SGD instead of being fitted by one of the other solvers in\"], 'reference': \"Logistic Regression with 'sag'/'saga' solvers and SGDClassifier with loss='log' are different. Both perform logistic regression but use distinct optimization techniques.\"}\n"
          ]
        }
      ],
      "source": [
        "print(basic_qa_ragas_dataset[0])\n"
      ]
    },
    {
      "cell_type": "code",
      "execution_count": 131,
      "metadata": {
        "colab": {
          "base_uri": "https://localhost:8080/"
        },
        "id": "ywp3Rwavy9pc",
        "outputId": "7a3948ce-b743-4d95-a581-17e035215f3f"
      },
      "outputs": [
        {
          "name": "stderr",
          "output_type": "stream",
          "text": [
            "Evaluating:  24%|██▍       | 29/120 [00:10<00:27,  3.26it/s]No statements were generated from the answer.\n",
            "Evaluating:  64%|██████▍   | 77/120 [00:26<00:17,  2.49it/s]No statements were generated from the answer.\n",
            "Evaluating:  89%|████████▉ | 107/120 [00:36<00:02,  5.01it/s]No statements were generated from the answer.\n",
            "Evaluating: 100%|██████████| 120/120 [00:53<00:00,  2.23it/s]\n"
          ]
        },
        {
          "name": "stdout",
          "output_type": "stream",
          "text": [
            "Error during evaluation: 'float' object is not subscriptable\n",
            "Row 0: {'question': \"Logistic regression classifier has different solvers and one of them is 'sgd'\\n\\nIt also has a different classifier 'SGDClassifier' and the loss parameter can be mentioned as 'log' for logistic regression.\\n\\nAre they essentially the same or different? If they are different, how different is the implementation between two? And how do you decide which one to use given the problem of logistic regression?\\n\", 'answer': 'They are essentially the same. The only difference is that LogisticRegression can be fitted using different solvers, while SGDClassifier specifically fits logistic regression using stochastic gradient descent. The decision on which one to use may depend on the size of the dataset and computational resources available.', 'contexts': [\"LogisticRegression which is fitted via SGD instead of being fitted by one of the other solvers in\\nLogisticRegression. Similarly, SGDRegressor(loss='squared_error', penalty='l2') and\\nRidge solve the same optimization problem, via different means.\", \"SGDClassifier(loss='log_loss') results in logistic regression, i.e. a model equivalent to\\nLogisticRegression which is fitted via SGD instead of being fitted by one of the other solvers in\"], 'reference': \"Logistic Regression with 'sag'/'saga' solvers and SGDClassifier with loss='log' are different. Both perform logistic regression but use distinct optimization techniques.\"}\n",
            "Row 1: {'question': 'How gaussian mixture models work?\\n\\nI am given an example:\\n\\nSuppose 1000 observations are drawn from N(0,1) and N(5,2) with mixing parameters ?1=0.2 and ?2=0.8 respectively. Suppose we only know ? and want to estimate ? and ?. How does one go about using Gaussian Mixture models to estimate these parameters? I know I have to use the EM algorithm but I do not know where to start. I want to use this simple example to get a better understanding of how it works.', 'answer': \"I don't know.\", 'contexts': ['We cannot answer that instantly, but consider the following requirements:\\n▶ How much training data do you have?\\n▶ Is your problem continuous or discrete?\\n▶ What is the ratio # features and #samples ?\\n▶ Do you need a sparse model?', 'What Method is the Best for Me?\\nWe cannot answer that instantly, but consider the following requirements:\\n▶ How much training data do you have?\\n▶ Is your problem continuous or discrete?\\n▶ What is the ratio # features and #samples ?'], 'reference': 'Gaussian Mixture Models (GMMs) estimate parameters (e.g., means, mixing weights) using the Expectation-Maximization (EM) algorithm, which alternates between two steps: 1. E-Step (Expectation): Compute the probability of each observation belonging to each component (soft assignments) using the current parameters.  2. M-Step (Maximization): Update the parameters (means, mixing coefficients, etc.) to maximize the likelihood based on these probabilities.'}\n",
            "Row 2: {'question': \"I'm working in a sklearn homework and I don't understand why one should standardize and normalize the test data with the training mean and sd. How can I implement this in Python?\", 'answer': 'Answer: You can implement standardization and normalization of test data with the training mean and standard deviation in Python using the StandardScaler from sklearn.preprocessing.', 'contexts': ['standardize it to have mean 0 and variance 1. Note that the same scaling must be applied to\\nthe test vector to obtain meaningful results. This can be easily done using StandardScaler:', \"from sklearn.preprocessing import StandardScaler\\nscaler = StandardScaler()\\nscaler.fit(X_train)  # Don't cheat - fit only on training data\\nX_train = scaler.transform(X_train)\\nX_test = scaler.transform(X_test)  # apply same transformation to test data\"], 'reference': 'Standardizing and normalizing the test data with the training mean and standard deviation ensures consistency between training and test datasets. This prevents data leakage from the test set into the training process, allowing the model to generalize better to unseen data.\\n'}\n",
            "Row 3: {'question': 'I have a collection of very large images. I tesselated these images into patches and computed feature embeddings via a pretrained ResNet for each patch in each image. The mean number of patches is 15000 with a feature dimension of 1024.\\n\\nI would like to apply spectral clustering to this dataset, clustering each image, now of shape [15000, 1024], individually.\\n\\nThis seems to be computationally very expensive, taking roughly 15 minutes per image. I read about the combination of Nystroem approximation with (or within?) Spectral Clustering. But I can not figure out how to combine them in scikit-learn.', 'answer': \"I don't know.\", 'contexts': ['Clustering\\n▶ Many clustering methods exist:\\nFrom scikit-learn documentation: Clustering comparison', 'continuous-valued attributes.\\n▶ Support Vector Regression (SVR)\\n▶ Nearest Neighbors\\n▶ Random Forest\\n▶ . . .\\n▶ Clustering:\\nGroup objects of a set.\\n▶ k-Means\\n▶ Spectral Clustering\\n▶ Mean-Shift\\n▶ . . .'], 'reference': 'The Nystroem approximation can significantly reduce the computational cost of spectral clustering by approximating the kernel matrix. In Scikit-learn, you can use the Nystroem class to approximate the kernel and then use the resulting feature space with a clustering algorithm like KMeans.'}\n",
            "Row 4: {'question': \"how does sklearn's gaussian mixture model avoid numerical overflow errors with so many multiplications?\", 'answer': \"I don't know.\", 'contexts': ['at best quadratic in the number of samples. sklearn.linear_model.SGDOneClassSVM is thus\\nwell suited for datasets with a large number of training samples (> 10,000) for which the SGD\\nvariant can be several orders of magnitude faster.', 'complexity in the number of samples. Note that the complexity of a kernelized One-Class SVM is\\nat best quadratic in the number of samples. sklearn.linear_model.SGDOneClassSVM is thus'], 'reference': \"Scikit-learn's Gaussian Mixture Model (GMM) avoids numerical overflow errors by operating in the log-space when computing probabilities. Specifically, the library uses the log-sum-exp trick, which ensures numerical stability by preventing excessively large or small values during the multiplication of probabilities.\"}\n",
            "Row 5: {'question': \"Procedure for selecting optimal number of features with Python's Scikit-Learn\\n\\nI have a dataset with 130 features (1000 rows) . I want to select the best features for my classifier. I started with RFE but Its taking too long, i done this:\\nnumber_of_columns = 130 for i in range(1, number_of_columns): rfe = RFE(model, i) fit = rfe.fit(x_train, y_train) acc = fit.score(x_test, y_test\\nBecause this took to long, I changed my approach, and I want to see what you think about it, is it good / correct approach.\\nFirst I did PCA, and I found out that each column participates with around 1-0.4%, except last 9 columns. Last 9 columns participate with less than 0.00001% so I removed them. Now I have 121 features.\\npca = PCA()\\nfit = pca.fit(x)\\nThen I split my data into train and test (with 121 features).\\nThen I used SelectFromModel, and I tested it with 4 different classifiers. Each classifier in SelectFromModel reduced the number of columns. I chosed the number of column that was determined by classifier that gave me the best accuracy:\\nmodel = SelectFromModel(clf, prefit=True) #train_score = clf.score(x_train, y_train) test_score = clf.score(x_test, y_test) column_res = model.transform(x_train).shape\\nEnd finally I used 'RFE'. I have used number of columns that i get with 'SelectFromModel'.\\nrfe = RFE(model, number_of_columns) fit = rfe.fit(x_train, y_train) acc = fit.score(x_test, y_test)\\nIs this a good approach, or I did something wrong?\\nAlso, If I got the biggest accuracy in SelectFromModel with one classifier, do I need to use the same classifier in RFE?\", 'answer': \"I don't know.\", 'contexts': ['▶ Feature Selection\\n▶ non-Negative Matrix Factorization\\n▶ . . .\\n▶ Model selection:\\nCompare, validate and choose parameters/models.\\n▶ Grid Search\\n▶ Cross Validation\\n▶ . . .\\n▶ Pre-Processing:\\nPrepare/transform data before training models.\\n▶ Conversion', '▶ Principal Component Analysis (PCA)\\n▶ Feature Selection\\n▶ non-Negative Matrix Factorization\\n▶ . . .\\n▶ Model selection:\\nCompare, validate and choose parameters/models.\\n▶ Grid Search\\n▶ Cross Validation\\n▶ . . .\\n▶ Pre-Processing:'], 'reference': 'The approach of using PCA, SelectFromModel, and then RFE is generally valid, but it could be more streamlined. PCA focuses on variance, not classification power, which can lead to unnecessary feature removal. Instead, you could use SelectFromModel directly, followed by RFE, but with careful attention to the computational cost and feature redundancy. Consistency in classifiers between SelectFromModel and RFE is not mandatory, but it can help.'}\n",
            "Row 6: {'question': \"I have trained a classifier on 'Rocks and Mines' dataset (https://archive.ics.uci.edu/ml/machine-learning-databases/undocumented/connectionist-bench/sonar/sonar.all-data) And when calculating the accuracy score it always seems to be perfectly accurate (output is 1.0) which I find hard to believe. Am I making any mistakes, or naive bayes is this powerful?\", 'answer': \"I don't know.\", 'contexts': ['confidence score (i.e. the signed distances to the hyperplane) for each classifier and choose the\\nclass with the highest confidence. The Figure below illustrates the OVA approach on the iris', 'encountered in text classification and natural language processing. Given that the data is sparse,\\nthe classifiers in this module easily scale to problems with more than 10^5 training examples and\\nmore than 10^5 features.'], 'reference': 'It is likely that your model is overfitting or that there is a mistake in your data split, leading to perfect accuracy. A common issue could be that the model is trained and tested on the same data, which would lead to perfect accuracy. Naive Bayes itself, while simple and effective, is unlikely to give perfect results unless the dataset is trivially separable or there is a data leakage.'}\n",
            "Row 7: {'question': 'After reading sklearn manual it was not very obvious for me to understand how Isotonic regression works in the case of probability calibration (using CalibratedClassifierCV).', 'answer': \"I don't know\", 'contexts': ['Introduction to scikit-learn\\nGeorg Zitzlsberger georg.zitzlsberger@vsb.cz\\n26-03-2021', 'Agenda\\nWhat is scikit-learn?\\nClassiﬁcation\\nRegression\\nClustering\\nDimensionality Reduction\\nModel Selection\\nPre-Processing\\nWhat Method is the Best for Me?'], 'reference': \"Isotonic regression in the context of probability calibration works by fitting a piecewise constant, non-decreasing function to the predicted probabilities. It maps the predicted probabilities to calibrated probabilities based on the training data. For example, if the model predicts a probability of 0.8, isotonic regression will map that value to a more accurate probability based on the calibration data. It is useful when the model's predicted probabilities are skewed, and the calibration data is large enough to avoid overfitting.\"}\n",
            "Row 8: {'question': 'How do you choose the feature selection algorithm(s) from scikit learn?\\nWhen should each be considered? Which are considered to be the most generally reliable? I am fairly new to ML and am having trouble understanding how to decide which feature selection method(s) to use for any given task.\\n', 'answer': 'To choose the feature selection algorithm(s) from scikit-learn, you can use methods such as Grid Search and Cross Validation to compare, validate, and choose parameters/models. These methods can help you determine which feature selection algorithm is most suitable for your task. As for which feature selection algorithms are generally reliable, it would depend on the specific task and dataset. It is recommended to experiment with different algorithms and evaluate their performance to determine the most effective one for your particular problem.', 'contexts': ['Agenda\\nWhat is scikit-learn?\\nClassiﬁcation\\nRegression\\nClustering\\nDimensionality Reduction\\nModel Selection\\nPre-Processing\\nWhat Method is the Best for Me?', '▶ Feature Selection\\n▶ non-Negative Matrix Factorization\\n▶ . . .\\n▶ Model selection:\\nCompare, validate and choose parameters/models.\\n▶ Grid Search\\n▶ Cross Validation\\n▶ . . .\\n▶ Pre-Processing:\\nPrepare/transform data before training models.\\n▶ Conversion'], 'reference': 'Feature selection depends on the dataset and model:\\n\\nUnivariate Selection (SelectKBest): Use when quickly selecting features based on statistical tests. Best for smaller datasets.\\nRFE: Recursively eliminates less important features, useful for models like decision trees and logistic regression.\\nL1 Regularization (Lasso): Shrinks less important features to zero. Ideal for sparse datasets with many irrelevant features.\\nTree-based (SelectFromModel): Uses feature importance from models like decision trees or random forests. Effective for complex datasets.'}\n",
            "Row 9: {'question': \"I have a dataset of images that I would like to run nonlinear dimensionality reduction on. To decide what number of output dimensions to use, I need to be able to find the retained variance (or explained variance, I believe they are similar). Scikit-learn seems to have by far the best selection of manifold learning algorithms, but I can't see any way of getting a retained variance statistic. Is there a part of the scikit-learn API that I'm missing, or simple way to calculate the retained variance?\", 'answer': \"I don't know.\", 'contexts': ['Tools of scikit-learn - cont’d\\n▶ Dimensionality reduction:\\nReducing the number of random variables.\\n▶ Principal Component Analysis (PCA)\\n▶ Feature Selection\\n▶ non-Negative Matrix Factorization\\n▶ . . .\\n▶ Model selection:', '▶ Dimensionality reduction:\\nReducing the number of random variables.\\n▶ Principal Component Analysis (PCA)\\n▶ Feature Selection\\n▶ non-Negative Matrix Factorization\\n▶ . . .\\n▶ Model selection:\\nCompare, validate and choose parameters/models.'], 'reference': 'In scikit-learn, non-linear dimensionality reduction algorithms (like Isomap, LocallyLinearEmbedding, t-SNE, etc.) do not directly provide a \"retained variance\" metric, as these algorithms are not linear and do not rely on variance as a performance measure like PCA does. However, if you are using Isomap or LocallyLinearEmbedding, you can estimate the \"explained variance\" in a more indirect way by comparing the distances before and after dimensionality reduction.'}\n",
            "Row 10: {'question': \"Does running a Decision Tree classifier several times help?\\nTo introduce, I am a novice in ML techniques. I recently had to write a scikit-learn based decision tree classifier to train on a real dataset. Someone suggested me that I must run mu model several thousand times and plot the accuracies on a graph. Here's the rub: I manually ran it around 20 -30 times and every time it gave the same accuracy (for both gini and entropy base). Is that wrong? Should it show slight variations every time?\", 'answer': \"I don't know.\", 'contexts': ['Recent theoretical results, however, show that the runtime to get some desired optimization\\naccuracy does not increase as the training set size increases.\\n1.5.6. Stopping criterion', 'accuracy does not increase as the training set size increases.\\n1.5.6. Stopping criterion\\nThe classes SGDClassifier and SGDRegressor provide two criteria to stop the algorithm when\\na given level of convergence is reached:'], 'reference': 'Running a Decision Tree classifier multiple times on the same dataset should, in general, yield slightly different results if the model is using randomness, such as when the max_depth, min_samples_split, or random_state parameters are set in a non-deterministic way. If you are using default parameters (e.g., random_state=None) and the same dataset, the Decision Tree will likely give the same result each time. This happens because the tree-building process is deterministic without explicit randomness.'}\n",
            "Row 11: {'question': 'I am building a classification model for Iris flower classification by using Logistic Regression. I am using jupyter notebook and I am importing Logistic Regression by from sklearn.linear_model import LogisticRegression. The following import error pops up. I tried installing scipy library but the cannot be solved.\\n\\nImportError: cannot import name â\\x80\\x98LogisticRegressionâ\\x80\\x99 from â\\x80\\x98sklearn.linear_modelâ\\x80\\x99 ', 'answer': \"I don't know.\", 'contexts': [\"SGDClassifier(loss='log_loss') results in logistic regression, i.e. a model equivalent to\\nLogisticRegression which is fitted via SGD instead of being fitted by one of the other solvers in\", 'Python dependencies:\\npip: 20.3.3\\nsetuptools: 49.6.0.post20201009\\nsklearn: 0.24.0\\nnumpy: 1.19.5\\nscipy: 1.5.3\\nCython: 0.29.21\\npandas: 1.1.5\\nmatplotlib: 3.3.3\\njoblib: 1.0.0\\nthreadpoolctl: 2.1.0\\nBuilt with OpenMP: True'], 'reference': \"The ImportError you're encountering typically happens due to an issue with the scikit-learn installation or the environment configuration. The LogisticRegression class should be available in sklearn.linear_model if scikit-learn is correctly installed.\"}\n",
            "Row 12: {'question': 'Do you know if models from scikit-learn use automatically multithreading or just sequential instructions?', 'answer': \"I don't know.\", 'contexts': ['Agenda\\nWhat is scikit-learn?\\nClassiﬁcation\\nRegression\\nClustering\\nDimensionality Reduction\\nModel Selection\\nPre-Processing\\nWhat Method is the Best for Me?', 'What is scikit-learn?\\n▶ Simple and eﬃcient tools for predictive data analysis\\n▶ Machine Learning methods\\n▶ Data processing\\n▶ Visualization\\n▶ Accessible to everybody, and reusable in various contexts\\n▶ Documented API with lot’s of examples'], 'reference': 'Scikit-learn models do not automatically use multithreading for most algorithms. They typically operate sequentially unless explicitly told to use parallelization.'}\n",
            "Row 13: {'question': \"I'm working on a classification problem with unbalanced classes (5% 1's). I want to predict the class, not the probability.\\nIn a binary classification problem, is scikit's classifier.predict() using 0.5 by default? If it doesn't, what's the default method? If it does, how do I change it?\\nIn scikit some classifiers have the class_weight='auto' option, but not all do. With class_weight='auto', would .predict() use the actual population proportion as a threshold?\\nWhat would be the way to do this in a classifier like MultinomialNB that doesn't support class_weight? Other than using predict_proba() and then calculation the classes myself\", 'answer': \"I don't know.\", 'contexts': ['Tools of scikit-learn\\n▶ Classiﬁcation:\\nCategorizing objects to one or more classes.\\n▶ Support Vector Machines (SVM)\\n▶ Nearest Neighbors\\n▶ Random Forest\\n▶ . . .\\n▶ Regression:\\nPrediction of one (uni-) or more (multi-variate)', '▶ Supervised:\\nLabel information is available and can be used for learning\\n▶ Unsupervised:\\nNo (initial) labels and learning needs to structure data on its own\\n▶ Many classiﬁcation methods exist:\\nFrom scikit-learn documentation: Classiﬁer comparison'], 'reference': \"Default Threshold: predict() uses a 0.5 threshold by default in scikit-learn for binary classification.\\nChange Threshold: Use predict_proba() and set a custom threshold:\\ny_pred = (model.predict_proba(X)[:, 1] > threshold).astype(int)\\nclass_weight='balanced': This adjusts training weights for imbalanced data but doesnâ\\x80\\x99t affect the 0.5 threshold used in predict().\\nHandling Imbalance (e.g., MultinomialNB):\\nResample data.\\nManually set thresholds with predict_proba().\"}\n",
            "Row 14: {'question': 'm trying to use one of scikit-learn\\'s supervised learning methods to classify pieces of text into one or more categories. The predict function of all the algorithms I tried just returns one match.\\nFor example I have a piece of text:\\n\"Theaters in New York compared to those in Londonâ\\x80\\x9d\\n\\nAnd I have trained the algorithm to pick a place for every text snippet I feed it.\\nIn the above example I would want it to return New York and London, but it only returns New York.\\nIs it possible to use scikit-learn to return multiple results? Or even return the label with the next highest probability?', 'answer': \"I don't know.\", 'contexts': ['Tools of scikit-learn\\n▶ Classiﬁcation:\\nCategorizing objects to one or more classes.\\n▶ Support Vector Machines (SVM)\\n▶ Nearest Neighbors\\n▶ Random Forest\\n▶ . . .\\n▶ Regression:\\nPrediction of one (uni-) or more (multi-variate)', 'Categorizing objects to one or more classes.\\n▶ Support Vector Machines (SVM)\\n▶ Nearest Neighbors\\n▶ Random Forest\\n▶ . . .\\n▶ Regression:\\nPrediction of one (uni-) or more (multi-variate)\\ncontinuous-valued attributes.\\n▶ Support Vector Regression (SVR)'], 'reference': 'Multi-label Classification: Use MultiLabelBinarizer to handle multiple labels and train your model accordingly.\\nTop-n Predictions: For models supporting probabilities (e.g., predict_proba()), retrieve labels with the highest probabilities:\\ntop_n = 2\\nprobas = model.predict_proba(X)\\ntop_labels = np.argsort(probas, axis=1)[:, -top_n:]\\nAlternative Approach: Use decision_function for SVMs to rank predictions and manually extract multiple labels'}\n",
            "Row 15: {'question': \"Today i'm trying to learn something about K-means. I Have understand the algorithm and i know how it works. Now i'm looking for the right k... I found the elbow criterion as a method to detect the right k but i do not understand how to use it with scikit learn?! In scikit learn i'm clustering things in this way\\nkmeans = KMeans(init='k-means++', n_clusters=n_clusters, n_init=10) \\nkmeans.fit(data)\\n\\nSo should i do this several times for n_clusters = 1...n and watch at the Error rate to get the right k ? think this would be stupid and would take a lot of time?!\", 'answer': \"I don't know\", 'contexts': ['Clustering\\n▶ Many clustering methods exist:\\nFrom scikit-learn documentation: Clustering comparison', '▶ Clustering is applied in two steps:\\n1. Train (i.e. identify) cluster with training data\\n2. Retrieve the labels/metrics from the trained model\\nTable can be found\\nin documentation'], 'reference': 'Yes, the elbow method involves running K-Means for different values of  ?? and evaluating the inertia (sum of squared distances to the nearest cluster center). The steps are:\\nIterate ?? over a range (e.g., 1 to 10). Fit K-Means for each ??\\nRecord the inertia. Choose the k where the decrease in inertia slows significantly (the \"elbow\").'}\n",
            "Row 16: {'question': 'How can I find the p-value (significance) of each coefficient?\\nlm = sklearn.linear_model.LinearRegression()\\nlm.fit(x,y) ', 'answer': \"I don't know.\", 'contexts': ['>>> X = [[0., 0.], [1., 1.]]\\n>>> y = [0, 1]\\n>>> clf = SGDClassifier(loss=\"hinge\", penalty=\"l2\", max_iter=5)\\n>>> clf.fit(X, y)\\nSGDClassifier(max_iter=5)\\n>>> clf.predict([[2., 2.]])\\narray([1])\\n>>> clf.coef_\\narray([[9.9..., 9.9...]])\\n>>> clf.intercept_', 'After being fitted, the model can then be used to predict new values:\\nSGD fits a linear model to the training data. The coef_ attribute holds the model parameters:\\nThe intercept_ attribute holds the intercept (aka offset or bias):'], 'reference': 'Scikit-learn\\'s LinearRegression does not directly provide p-values for coefficients, as it focuses on efficient computation rather than statistical inference. To obtain p-values, you can use the statsmodels library. Here\\'s how:\\n\\nUse statsmodels.OLS to fit the same linear regression model:import statsmodels.api as sm\\nx = sm.add_constant(x)  # Adds an intercept term\\nmodel = sm.OLS(y, x).fit()\\nprint(model.summary())\\nThe summary() function provides p-values for each coefficient under the \"P>|t|\" column.'}\n",
            "Row 17: {'question': 'When choosing the number of principal components (k), we choose k to be the smallest value so that for example, 99% of variance, is retained.\\nHowever, in the Python Scikit learn, I am not 100% sure pca.explained_variance_ratio_ = 0.99 is equal to \"99% of variance is retained\"? Could anyone enlighten?', 'answer': \"I don't know.\", 'contexts': ['Tools of scikit-learn - cont’d\\n▶ Dimensionality reduction:\\nReducing the number of random variables.\\n▶ Principal Component Analysis (PCA)\\n▶ Feature Selection\\n▶ non-Negative Matrix Factorization\\n▶ . . .\\n▶ Model selection:', '▶ Dimensionality reduction:\\nReducing the number of random variables.\\n▶ Principal Component Analysis (PCA)\\n▶ Feature Selection\\n▶ non-Negative Matrix Factorization\\n▶ . . .\\n▶ Model selection:\\nCompare, validate and choose parameters/models.'], 'reference': 'Yes, in Scikit-learn, setting pca.explained_variance_ratio_ = 0.99 corresponds to retaining 99% of the variance. The attribute explained_variance_ratio_ contains the proportion of variance explained by each principal component. To find the smallest number of components (k) that retains 99% variance, you can sum the values in explained_variance_ratio_ until they reach or exceed 0.99.\\nExample:\\nfrom sklearn.decomposition import PCA\\npca = PCA()\\npca.fit(X)\\ncumulative_variance = pca.explained_variance_ratio_.cumsum()\\nk = (cumulative_variance >= 0.99).argmax() + 1\\nprint(f\"Number of components to retain 99% variance: {k}\")'}\n",
            "Row 18: {'question': ' scikit-learn is installed as part of the tensorflow docker container so can use either implementation.\\nReason to use scikit-learn :\\n\\tâ\\x80\\x9cscikit-learn contains less boilerplate than the tensorflow implementation.â\\x80\\x9d\\nReason to use tensorflow :\\n\\tâ\\x80\\x9cIf running on Nvidia GPU the algorithm will be run against in parallel , I\\'m not sure if scikit-learn will utilize all available GPUs?â\\x80\\x9d\\n\\n\\tâ\\x80\\x9cTensorFlow is more low-level; basically, the Lego bricks that help you to implement machine learning algorithms whereas scikit-learn offers you off-the-shelf algorithms, e.g., algorithms for classification such as SVMs, Random Forests, Logistic Regression, and many, many more. TensorFlow shines if you want to implement deep learning algorithms, since it allows you to take advantage of GPUs for more efficient training.â\\x80\\x9d\\n\\nThis statement re-enforces my assertion that \"scikit-learn contains less boilerplate than the tensorflow implementation\" but also suggests scikit-learn will not utilize all available GPUs?', 'answer': \"I don't know.\", 'contexts': ['▶ Can be integrated seamlessly, even with Tensorﬂow and Pytorch\\n▶ Beneﬁts from performance optimizations of BLAS, FFT, etc. optimizations\\n▶ scikit-learn available as Python module:\\nimport sklearn\\nsklearn.show_versions()\\nSystem:', 'What is scikit-learn?\\n▶ Simple and eﬃcient tools for predictive data analysis\\n▶ Machine Learning methods\\n▶ Data processing\\n▶ Visualization\\n▶ Accessible to everybody, and reusable in various contexts\\n▶ Documented API with lot’s of examples'], 'reference': 'Scikit-learn and TensorFlow serve different purposes:\\n\\nScikit-learn is optimized for classical machine learning tasks (e.g., SVMs, Random Forests, Logistic Regression). It is simpler and requires less boilerplate but does not leverage GPU acceleration for most algorithms.\\nTensorFlow is a low-level framework ideal for deep learning and can leverage Nvidia GPUs for parallel computations, making it faster for large-scale, computationally expensive tasks.\\nScikit-learn does not natively support GPU utilization for its algorithms, whereas TensorFlow provides built-in support for GPUs when running on compatible hardware and CUDA-enabled environments.\\n\\nRecommendation:\\nUse Scikit-learn for faster prototyping and when working with small to medium-sized datasets.\\nUse TensorFlow for large-scale or deep learning tasks that can benefit from GPU acceleration.'}\n",
            "Row 19: {'question': 'I have a fairly large dataset in the form of a dataframe and I was wondering how I would be able to split the dataframe into two random samples (80% and 20%) for training and testing.', 'answer': \"I don't know\", 'contexts': ['What Method is the Best for Me?\\nWe cannot answer that instantly, but consider the following requirements:\\n▶ How much training data do you have?\\n▶ Is your problem continuous or discrete?\\n▶ What is the ratio # features and #samples ?', '▶ What is the ratio # features and #samples ?\\n▶ Do you need a sparse model?\\n▶ Would reducing dimensionality be an option?\\n▶ Do you have a multi-task/-label problem?\\nHere’s a great overview of (some) of the methods: Data Science Cheatsheet'], 'reference': 'According to the scikit-learn documentation, train_test_split performs random splitting by shuffling the data before partitioning it into train and test sets. The function can handle a wide variety of data types, including arrays, dataframes, and matrices.'}\n"
          ]
        },
        {
          "ename": "TypeError",
          "evalue": "'float' object is not subscriptable",
          "output_type": "error",
          "traceback": [
            "\u001b[0;31m---------------------------------------------------------------------------\u001b[0m",
            "\u001b[0;31mTypeError\u001b[0m                                 Traceback (most recent call last)",
            "Cell \u001b[0;32mIn[131], line 1\u001b[0m\n\u001b[0;32m----> 1\u001b[0m basic_qa_result \u001b[38;5;241m=\u001b[39m \u001b[43mevaluate_ragas_dataset\u001b[49m\u001b[43m(\u001b[49m\u001b[43mbasic_qa_ragas_dataset\u001b[49m\u001b[43m)\u001b[49m\n",
            "Cell \u001b[0;32mIn[123], line 49\u001b[0m, in \u001b[0;36mevaluate_ragas_dataset\u001b[0;34m(ragas_dataset)\u001b[0m\n\u001b[1;32m     44\u001b[0m \u001b[38;5;250m\u001b[39m\u001b[38;5;124;03m\"\"\"\u001b[39;00m\n\u001b[1;32m     45\u001b[0m \u001b[38;5;124;03mEvaluate the RAG dataset using specified metrics and handle errors gracefully.\u001b[39;00m\n\u001b[1;32m     46\u001b[0m \u001b[38;5;124;03m\"\"\"\u001b[39;00m\n\u001b[1;32m     47\u001b[0m \u001b[38;5;28;01mtry\u001b[39;00m:\n\u001b[1;32m     48\u001b[0m     \u001b[38;5;66;03m# Perform the evaluation\u001b[39;00m\n\u001b[0;32m---> 49\u001b[0m     result \u001b[38;5;241m=\u001b[39m \u001b[43mevaluate\u001b[49m\u001b[43m(\u001b[49m\n\u001b[1;32m     50\u001b[0m \u001b[43m        \u001b[49m\u001b[43mragas_dataset\u001b[49m\u001b[43m,\u001b[49m\n\u001b[1;32m     51\u001b[0m \u001b[43m        \u001b[49m\u001b[43mmetrics\u001b[49m\u001b[38;5;241;43m=\u001b[39;49m\u001b[43m[\u001b[49m\n\u001b[1;32m     52\u001b[0m \u001b[43m            \u001b[49m\u001b[43mcontext_precision\u001b[49m\u001b[43m,\u001b[49m\n\u001b[1;32m     53\u001b[0m \u001b[43m            \u001b[49m\u001b[43mfaithfulness\u001b[49m\u001b[43m,\u001b[49m\n\u001b[1;32m     54\u001b[0m \u001b[43m            \u001b[49m\u001b[43manswer_relevancy\u001b[49m\u001b[43m,\u001b[49m\n\u001b[1;32m     55\u001b[0m \u001b[43m            \u001b[49m\u001b[43mcontext_recall\u001b[49m\u001b[43m,\u001b[49m\n\u001b[1;32m     56\u001b[0m \u001b[43m            \u001b[49m\u001b[43manswer_correctness\u001b[49m\u001b[43m,\u001b[49m\n\u001b[1;32m     57\u001b[0m \u001b[43m            \u001b[49m\u001b[43manswer_similarity\u001b[49m\u001b[43m,\u001b[49m\n\u001b[1;32m     58\u001b[0m \u001b[43m        \u001b[49m\u001b[43m]\u001b[49m\u001b[43m,\u001b[49m\n\u001b[1;32m     59\u001b[0m \u001b[43m    \u001b[49m\u001b[43m)\u001b[49m\n\u001b[1;32m     60\u001b[0m     \u001b[38;5;28;01mreturn\u001b[39;00m result\n\u001b[1;32m     61\u001b[0m \u001b[38;5;28;01mexcept\u001b[39;00m \u001b[38;5;167;01mException\u001b[39;00m \u001b[38;5;28;01mas\u001b[39;00m e:\n",
            "File \u001b[0;32m~/Desktop/BU/Academics/Masters/F24/Fidelity/_MSSPxFidelity/rag-langchain-base/venv/lib/python3.10/site-packages/ragas/_analytics.py:205\u001b[0m, in \u001b[0;36mtrack_was_completed.<locals>.wrapper\u001b[0;34m(*args, **kwargs)\u001b[0m\n\u001b[1;32m    202\u001b[0m \u001b[38;5;129m@wraps\u001b[39m(func)\n\u001b[1;32m    203\u001b[0m \u001b[38;5;28;01mdef\u001b[39;00m \u001b[38;5;21mwrapper\u001b[39m(\u001b[38;5;241m*\u001b[39margs: P\u001b[38;5;241m.\u001b[39margs, \u001b[38;5;241m*\u001b[39m\u001b[38;5;241m*\u001b[39mkwargs: P\u001b[38;5;241m.\u001b[39mkwargs) \u001b[38;5;241m-\u001b[39m\u001b[38;5;241m>\u001b[39m t\u001b[38;5;241m.\u001b[39mAny:\n\u001b[1;32m    204\u001b[0m     track(IsCompleteEvent(event_type\u001b[38;5;241m=\u001b[39mfunc\u001b[38;5;241m.\u001b[39m\u001b[38;5;18m__name__\u001b[39m, is_completed\u001b[38;5;241m=\u001b[39m\u001b[38;5;28;01mFalse\u001b[39;00m))\n\u001b[0;32m--> 205\u001b[0m     result \u001b[38;5;241m=\u001b[39m \u001b[43mfunc\u001b[49m\u001b[43m(\u001b[49m\u001b[38;5;241;43m*\u001b[39;49m\u001b[43margs\u001b[49m\u001b[43m,\u001b[49m\u001b[43m \u001b[49m\u001b[38;5;241;43m*\u001b[39;49m\u001b[38;5;241;43m*\u001b[39;49m\u001b[43mkwargs\u001b[49m\u001b[43m)\u001b[49m\n\u001b[1;32m    206\u001b[0m     track(IsCompleteEvent(event_type\u001b[38;5;241m=\u001b[39mfunc\u001b[38;5;241m.\u001b[39m\u001b[38;5;18m__name__\u001b[39m, is_completed\u001b[38;5;241m=\u001b[39m\u001b[38;5;28;01mTrue\u001b[39;00m))\n\u001b[1;32m    208\u001b[0m     \u001b[38;5;28;01mreturn\u001b[39;00m result\n",
            "File \u001b[0;32m~/Desktop/BU/Academics/Masters/F24/Fidelity/_MSSPxFidelity/rag-langchain-base/venv/lib/python3.10/site-packages/ragas/evaluation.py:333\u001b[0m, in \u001b[0;36mevaluate\u001b[0;34m(dataset, metrics, llm, embeddings, callbacks, in_ci, run_config, token_usage_parser, raise_exceptions, column_map, show_progress, batch_size, _run_id, _pbar)\u001b[0m\n\u001b[1;32m    329\u001b[0m \u001b[38;5;28;01melse\u001b[39;00m:\n\u001b[1;32m    330\u001b[0m     \u001b[38;5;66;03m# evalution run was successful\u001b[39;00m\n\u001b[1;32m    331\u001b[0m     \u001b[38;5;66;03m# now lets process the results\u001b[39;00m\n\u001b[1;32m    332\u001b[0m     cost_cb \u001b[38;5;241m=\u001b[39m ragas_callbacks[\u001b[38;5;124m\"\u001b[39m\u001b[38;5;124mcost_cb\u001b[39m\u001b[38;5;124m\"\u001b[39m] \u001b[38;5;28;01mif\u001b[39;00m \u001b[38;5;124m\"\u001b[39m\u001b[38;5;124mcost_cb\u001b[39m\u001b[38;5;124m\"\u001b[39m \u001b[38;5;129;01min\u001b[39;00m ragas_callbacks \u001b[38;5;28;01melse\u001b[39;00m \u001b[38;5;28;01mNone\u001b[39;00m\n\u001b[0;32m--> 333\u001b[0m     result \u001b[38;5;241m=\u001b[39m \u001b[43mEvaluationResult\u001b[49m\u001b[43m(\u001b[49m\n\u001b[1;32m    334\u001b[0m \u001b[43m        \u001b[49m\u001b[43mscores\u001b[49m\u001b[38;5;241;43m=\u001b[39;49m\u001b[43mscores\u001b[49m\u001b[43m,\u001b[49m\n\u001b[1;32m    335\u001b[0m \u001b[43m        \u001b[49m\u001b[43mdataset\u001b[49m\u001b[38;5;241;43m=\u001b[39;49m\u001b[43mdataset\u001b[49m\u001b[43m,\u001b[49m\n\u001b[1;32m    336\u001b[0m \u001b[43m        \u001b[49m\u001b[43mbinary_columns\u001b[49m\u001b[38;5;241;43m=\u001b[39;49m\u001b[43mbinary_metrics\u001b[49m\u001b[43m,\u001b[49m\n\u001b[1;32m    337\u001b[0m \u001b[43m        \u001b[49m\u001b[43mcost_cb\u001b[49m\u001b[38;5;241;43m=\u001b[39;49m\u001b[43mt\u001b[49m\u001b[38;5;241;43m.\u001b[39;49m\u001b[43mcast\u001b[49m\u001b[43m(\u001b[49m\n\u001b[1;32m    338\u001b[0m \u001b[43m            \u001b[49m\u001b[43mt\u001b[49m\u001b[38;5;241;43m.\u001b[39;49m\u001b[43mUnion\u001b[49m\u001b[43m[\u001b[49m\u001b[38;5;124;43m\"\u001b[39;49m\u001b[38;5;124;43mCostCallbackHandler\u001b[39;49m\u001b[38;5;124;43m\"\u001b[39;49m\u001b[43m,\u001b[49m\u001b[43m \u001b[49m\u001b[38;5;28;43;01mNone\u001b[39;49;00m\u001b[43m]\u001b[49m\u001b[43m,\u001b[49m\n\u001b[1;32m    339\u001b[0m \u001b[43m            \u001b[49m\u001b[43mcost_cb\u001b[49m\u001b[43m,\u001b[49m\n\u001b[1;32m    340\u001b[0m \u001b[43m        \u001b[49m\u001b[43m)\u001b[49m\u001b[43m,\u001b[49m\n\u001b[1;32m    341\u001b[0m \u001b[43m        \u001b[49m\u001b[43mragas_traces\u001b[49m\u001b[38;5;241;43m=\u001b[39;49m\u001b[43mtracer\u001b[49m\u001b[38;5;241;43m.\u001b[39;49m\u001b[43mtraces\u001b[49m\u001b[43m,\u001b[49m\n\u001b[1;32m    342\u001b[0m \u001b[43m        \u001b[49m\u001b[43mrun_id\u001b[49m\u001b[38;5;241;43m=\u001b[39;49m\u001b[43m_run_id\u001b[49m\u001b[43m,\u001b[49m\n\u001b[1;32m    343\u001b[0m \u001b[43m    \u001b[49m\u001b[43m)\u001b[49m\n\u001b[1;32m    344\u001b[0m     \u001b[38;5;28;01mif\u001b[39;00m \u001b[38;5;129;01mnot\u001b[39;00m evaluation_group_cm\u001b[38;5;241m.\u001b[39mended:\n\u001b[1;32m    345\u001b[0m         evaluation_rm\u001b[38;5;241m.\u001b[39mon_chain_end({\u001b[38;5;124m\"\u001b[39m\u001b[38;5;124mscores\u001b[39m\u001b[38;5;124m\"\u001b[39m: result\u001b[38;5;241m.\u001b[39mscores})\n",
            "File \u001b[0;32m<string>:10\u001b[0m, in \u001b[0;36m__init__\u001b[0;34m(self, scores, dataset, binary_columns, cost_cb, traces, ragas_traces, run_id)\u001b[0m\n",
            "File \u001b[0;32m~/Desktop/BU/Academics/Masters/F24/Fidelity/_MSSPxFidelity/rag-langchain-base/venv/lib/python3.10/site-packages/ragas/dataset_schema.py:410\u001b[0m, in \u001b[0;36mEvaluationResult.__post_init__\u001b[0;34m(self)\u001b[0m\n\u001b[1;32m    408\u001b[0m \u001b[38;5;66;03m# parse the traces\u001b[39;00m\n\u001b[1;32m    409\u001b[0m run_id \u001b[38;5;241m=\u001b[39m \u001b[38;5;28mstr\u001b[39m(\u001b[38;5;28mself\u001b[39m\u001b[38;5;241m.\u001b[39mrun_id) \u001b[38;5;28;01mif\u001b[39;00m \u001b[38;5;28mself\u001b[39m\u001b[38;5;241m.\u001b[39mrun_id \u001b[38;5;129;01mis\u001b[39;00m \u001b[38;5;129;01mnot\u001b[39;00m \u001b[38;5;28;01mNone\u001b[39;00m \u001b[38;5;28;01melse\u001b[39;00m \u001b[38;5;28;01mNone\u001b[39;00m\n\u001b[0;32m--> 410\u001b[0m \u001b[38;5;28mself\u001b[39m\u001b[38;5;241m.\u001b[39mtraces \u001b[38;5;241m=\u001b[39m \u001b[43mparse_run_traces\u001b[49m\u001b[43m(\u001b[49m\u001b[38;5;28;43mself\u001b[39;49m\u001b[38;5;241;43m.\u001b[39;49m\u001b[43mragas_traces\u001b[49m\u001b[43m,\u001b[49m\u001b[43m \u001b[49m\u001b[43mrun_id\u001b[49m\u001b[43m)\u001b[49m\n",
            "File \u001b[0;32m~/Desktop/BU/Academics/Masters/F24/Fidelity/_MSSPxFidelity/rag-langchain-base/venv/lib/python3.10/site-packages/ragas/callbacks.py:167\u001b[0m, in \u001b[0;36mparse_run_traces\u001b[0;34m(traces, parent_run_id)\u001b[0m\n\u001b[1;32m    163\u001b[0m     \u001b[38;5;28;01mfor\u001b[39;00m i, prompt_uuid \u001b[38;5;129;01min\u001b[39;00m \u001b[38;5;28menumerate\u001b[39m(metric_trace\u001b[38;5;241m.\u001b[39mchildren):\n\u001b[1;32m    164\u001b[0m         prompt_trace \u001b[38;5;241m=\u001b[39m traces[prompt_uuid]\n\u001b[1;32m    165\u001b[0m         prompt_traces[\u001b[38;5;124mf\u001b[39m\u001b[38;5;124m\"\u001b[39m\u001b[38;5;132;01m{\u001b[39;00mprompt_trace\u001b[38;5;241m.\u001b[39mname\u001b[38;5;132;01m}\u001b[39;00m\u001b[38;5;124m\"\u001b[39m] \u001b[38;5;241m=\u001b[39m {\n\u001b[1;32m    166\u001b[0m             \u001b[38;5;124m\"\u001b[39m\u001b[38;5;124minput\u001b[39m\u001b[38;5;124m\"\u001b[39m: prompt_trace\u001b[38;5;241m.\u001b[39minputs\u001b[38;5;241m.\u001b[39mget(\u001b[38;5;124m\"\u001b[39m\u001b[38;5;124mdata\u001b[39m\u001b[38;5;124m\"\u001b[39m, {}),\n\u001b[0;32m--> 167\u001b[0m             \u001b[38;5;124m\"\u001b[39m\u001b[38;5;124moutput\u001b[39m\u001b[38;5;124m\"\u001b[39m: \u001b[43mprompt_trace\u001b[49m\u001b[38;5;241;43m.\u001b[39;49m\u001b[43moutputs\u001b[49m\u001b[38;5;241;43m.\u001b[39;49m\u001b[43mget\u001b[49m\u001b[43m(\u001b[49m\u001b[38;5;124;43m\"\u001b[39;49m\u001b[38;5;124;43moutput\u001b[39;49m\u001b[38;5;124;43m\"\u001b[39;49m\u001b[43m,\u001b[49m\u001b[43m \u001b[49m\u001b[43m{\u001b[49m\u001b[43m}\u001b[49m\u001b[43m)\u001b[49m\u001b[43m[\u001b[49m\u001b[38;5;241;43m0\u001b[39;49m\u001b[43m]\u001b[49m,\n\u001b[1;32m    168\u001b[0m         }\n\u001b[1;32m    169\u001b[0m     metric_traces[\u001b[38;5;124mf\u001b[39m\u001b[38;5;124m\"\u001b[39m\u001b[38;5;132;01m{\u001b[39;00mmetric_trace\u001b[38;5;241m.\u001b[39mname\u001b[38;5;132;01m}\u001b[39;00m\u001b[38;5;124m\"\u001b[39m] \u001b[38;5;241m=\u001b[39m prompt_traces\n\u001b[1;32m    170\u001b[0m parased_traces\u001b[38;5;241m.\u001b[39mappend(metric_traces)\n",
            "\u001b[0;31mTypeError\u001b[0m: 'float' object is not subscriptable"
          ]
        }
      ],
      "source": [
        "basic_qa_result = evaluate_ragas_dataset(basic_qa_ragas_dataset)"
      ]
    },
    {
      "cell_type": "code",
      "execution_count": 111,
      "metadata": {
        "colab": {
          "base_uri": "https://localhost:8080/"
        },
        "id": "m4oYnKTn15gY",
        "outputId": "ba48e4d2-5559-4748-8bc6-0101074a5c0e"
      },
      "outputs": [],
      "source": [
        "basic_qa_result"
      ]
    },
    {
      "cell_type": "markdown",
      "metadata": {
        "id": "SwhBxlxYAdno"
      },
      "source": [
        "### Testing Other Retrievers\n",
        "\n",
        "Now we can test our how changing our Retriever impacts our RAGAS evaluation!\n",
        "\n",
        "We'll build this simple qa_chain factory to create standardized qa_chains where the only different component will be the retriever."
      ]
    },
    {
      "cell_type": "code",
      "execution_count": 29,
      "metadata": {
        "id": "qnfy4VNkzZi2"
      },
      "outputs": [],
      "source": [
        "def create_qa_chain(retriever):\n",
        "  primary_qa_llm = ChatOpenAI(model_name=\"gpt-3.5-turbo\", temperature=0)\n",
        "  created_qa_chain = (\n",
        "    {\"context\": itemgetter(\"question\") | retriever,\n",
        "     \"question\": itemgetter(\"question\")\n",
        "    }\n",
        "    | RunnablePassthrough.assign(\n",
        "        context=itemgetter(\"context\")\n",
        "      )\n",
        "    | {\n",
        "         \"response\": prompt | primary_qa_llm,\n",
        "         \"context\": itemgetter(\"context\"),\n",
        "      }\n",
        "  )\n",
        "\n",
        "  return created_qa_chain"
      ]
    },
    {
      "cell_type": "markdown",
      "metadata": {
        "id": "vOPp4Xq7AvEx"
      },
      "source": [
        "#### Parent Document Retriever\n",
        "\n",
        "One of the easier ways we can imagine improving a retriever is to embed our documents into small chunks, and then retrieve a significant amount of additional context that \"surrounds\" the found context.\n",
        "\n",
        "You can read more about this method [here](https://python.langchain.com/docs/modules/data_connection/retrievers/parent_document_retriever)!\n",
        "\n",
        "The basic outline of this retrieval method is as follows:\n",
        "\n",
        "1. Obtain User Question\n",
        "2. Retrieve child documents using Dense Vector Retrieval\n",
        "3. Merge the child documents based on their parents. If they have the same parents - they become merged.\n",
        "4. Replace the child documents with their respective parent documents from an in-memory-store.\n",
        "5. Use the parent documents to augment generation."
      ]
    },
    {
      "cell_type": "code",
      "execution_count": 30,
      "metadata": {
        "id": "67I6QJAJ0Un7"
      },
      "outputs": [
        {
          "name": "stderr",
          "output_type": "stream",
          "text": [
            "/var/folders/kw/4fz3zlmn44z83gf65j53lt2w0000gn/T/ipykernel_77843/1378426164.py:7: LangChainDeprecationWarning: The class `Chroma` was deprecated in LangChain 0.2.9 and will be removed in 1.0. An updated version of the class exists in the :class:`~langchain-chroma package and should be used instead. To use it run `pip install -U :class:`~langchain-chroma` and import as `from :class:`~langchain_chroma import Chroma``.\n",
            "  vectorstore = Chroma(collection_name=\"split_parents\", embedding_function=OpenAIEmbeddings())\n"
          ]
        }
      ],
      "source": [
        "from langchain.retrievers import ParentDocumentRetriever\n",
        "from langchain.storage import InMemoryStore\n",
        "\n",
        "parent_splitter = RecursiveCharacterTextSplitter(chunk_size=1500)\n",
        "child_splitter = RecursiveCharacterTextSplitter(chunk_size=200)\n",
        "\n",
        "vectorstore = Chroma(collection_name=\"split_parents\", embedding_function=OpenAIEmbeddings())\n",
        "\n",
        "store = InMemoryStore()"
      ]
    },
    {
      "cell_type": "code",
      "execution_count": 31,
      "metadata": {
        "id": "zfk5RYUt00Pw"
      },
      "outputs": [],
      "source": [
        "parent_document_retriever = ParentDocumentRetriever(\n",
        "    vectorstore=vectorstore,\n",
        "    docstore=store,\n",
        "    child_splitter=child_splitter,\n",
        "    parent_splitter=parent_splitter,\n",
        ")"
      ]
    },
    {
      "cell_type": "code",
      "execution_count": 32,
      "metadata": {
        "id": "68c1t4o104AK"
      },
      "outputs": [],
      "source": [
        "parent_document_retriever.add_documents(base_docs)"
      ]
    },
    {
      "cell_type": "markdown",
      "metadata": {
        "id": "MTH0MDolBndm"
      },
      "source": [
        "Let's create, test, and then evaluate our new chain!"
      ]
    },
    {
      "cell_type": "code",
      "execution_count": 33,
      "metadata": {
        "id": "KMjLfqOC09Iw"
      },
      "outputs": [],
      "source": [
        "parent_document_retriever_qa_chain = create_qa_chain(parent_document_retriever)"
      ]
    },
    {
      "cell_type": "code",
      "execution_count": 36,
      "metadata": {
        "colab": {
          "base_uri": "https://localhost:8080/",
          "height": 35
        },
        "id": "Rv8bAHPN1H4P",
        "outputId": "faa6bf43-1604-4468-9faf-bbefd8e48281"
      },
      "outputs": [
        {
          "data": {
            "text/plain": [
              "'Answer: Open Source (BSD License) available on Github. Current version: 0.24.2. Easy install via PIP or Conda for Windows, macOS and Linux.'"
            ]
          },
          "execution_count": 36,
          "metadata": {},
          "output_type": "execute_result"
        }
      ],
      "source": [
        "parent_document_retriever_qa_chain.invoke({\"question\" : \"How to get scikit-learn?\"})[\"response\"].content"
      ]
    },
    {
      "cell_type": "code",
      "execution_count": 37,
      "metadata": {
        "colab": {
          "base_uri": "https://localhost:8080/"
        },
        "id": "OQJRIQmU1WTw",
        "outputId": "295a9011-684d-4c38-e409-867022603608"
      },
      "outputs": [
        {
          "ename": "NameError",
          "evalue": "name 'create_ragas_dataset' is not defined",
          "output_type": "error",
          "traceback": [
            "\u001b[0;31m---------------------------------------------------------------------------\u001b[0m",
            "\u001b[0;31mNameError\u001b[0m                                 Traceback (most recent call last)",
            "Cell \u001b[0;32mIn[37], line 1\u001b[0m\n\u001b[0;32m----> 1\u001b[0m pdr_qa_ragas_dataset \u001b[38;5;241m=\u001b[39m \u001b[43mcreate_ragas_dataset\u001b[49m(parent_document_retriever_qa_chain, eval_dataset)\n",
            "\u001b[0;31mNameError\u001b[0m: name 'create_ragas_dataset' is not defined"
          ]
        }
      ],
      "source": [
        "pdr_qa_ragas_dataset = create_ragas_dataset(parent_document_retriever_qa_chain, eval_dataset)"
      ]
    },
    {
      "cell_type": "code",
      "execution_count": null,
      "metadata": {
        "colab": {
          "base_uri": "https://localhost:8080/",
          "height": 66,
          "referenced_widgets": [
            "bf7f045bdbe24360ad2aa2f4c8f02e79",
            "761e3c6035bf49429b3035145451d2df",
            "ffb7c97e7af648aaa13a43427154140e",
            "95d92c5c74e845779337eb727c2bbfc0",
            "6e7fb9a1d1454fcd9bcf5b5f748fb975",
            "207785da1f404d6ea0e8c63655a7aa51",
            "71237d176b2c4138a5e0346d10482257",
            "ed457547dc154f6bbce4ec970bb09c76",
            "c9f479f81119450bb451d5830361467c",
            "56098a347ea94ea3b10bd8d2ec0d4288",
            "7940d9e3f5fa4592b58dec3fdb55595a"
          ]
        },
        "id": "d9vfKnCL1jtB",
        "outputId": "1d7421a8-b564-4da3-cd74-d1eb3f8311f7"
      },
      "outputs": [
        {
          "data": {
            "application/vnd.jupyter.widget-view+json": {
              "model_id": "bf7f045bdbe24360ad2aa2f4c8f02e79",
              "version_major": 2,
              "version_minor": 0
            },
            "text/plain": [
              "Creating CSV from Arrow format:   0%|          | 0/1 [00:00<?, ?ba/s]"
            ]
          },
          "metadata": {},
          "output_type": "display_data"
        },
        {
          "data": {
            "text/plain": [
              "55620"
            ]
          },
          "execution_count": 46,
          "metadata": {},
          "output_type": "execute_result"
        }
      ],
      "source": [
        "pdr_qa_ragas_dataset.to_csv(\"pdr_qa_ragas_dataset.csv\")"
      ]
    },
    {
      "cell_type": "code",
      "execution_count": null,
      "metadata": {
        "colab": {
          "base_uri": "https://localhost:8080/"
        },
        "id": "qfB1H9S_1mW3",
        "outputId": "426d7b1b-2b0c-40d3-e7d7-39da43363f06"
      },
      "outputs": [
        {
          "name": "stdout",
          "output_type": "stream",
          "text": [
            "evaluating with [context_precision]\n"
          ]
        },
        {
          "name": "stderr",
          "output_type": "stream",
          "text": [
            "100%|██████████| 1/1 [01:01<00:00, 61.80s/it]\n"
          ]
        },
        {
          "name": "stdout",
          "output_type": "stream",
          "text": [
            "evaluating with [faithfulness]\n"
          ]
        },
        {
          "name": "stderr",
          "output_type": "stream",
          "text": [
            "100%|██████████| 1/1 [01:09<00:00, 69.23s/it]\n"
          ]
        },
        {
          "name": "stdout",
          "output_type": "stream",
          "text": [
            "evaluating with [answer_relevancy]\n"
          ]
        },
        {
          "name": "stderr",
          "output_type": "stream",
          "text": [
            "100%|██████████| 1/1 [01:04<00:00, 64.76s/it]\n"
          ]
        },
        {
          "name": "stdout",
          "output_type": "stream",
          "text": [
            "evaluating with [context_recall]\n"
          ]
        },
        {
          "name": "stderr",
          "output_type": "stream",
          "text": [
            "100%|██████████| 1/1 [00:06<00:00,  6.54s/it]\n"
          ]
        },
        {
          "name": "stdout",
          "output_type": "stream",
          "text": [
            "evaluating with [context_relevancy]\n"
          ]
        },
        {
          "name": "stderr",
          "output_type": "stream",
          "text": [
            "100%|██████████| 1/1 [00:04<00:00,  4.02s/it]\n"
          ]
        },
        {
          "name": "stdout",
          "output_type": "stream",
          "text": [
            "evaluating with [answer_correctness]\n"
          ]
        },
        {
          "name": "stderr",
          "output_type": "stream",
          "text": [
            "100%|██████████| 1/1 [00:06<00:00,  6.83s/it]\n"
          ]
        },
        {
          "name": "stdout",
          "output_type": "stream",
          "text": [
            "evaluating with [answer_similarity]\n"
          ]
        },
        {
          "name": "stderr",
          "output_type": "stream",
          "text": [
            "100%|██████████| 1/1 [00:00<00:00,  1.54it/s]\n"
          ]
        }
      ],
      "source": [
        "pdr_qa_result = evaluate_ragas_dataset(pdr_qa_ragas_dataset)"
      ]
    },
    {
      "cell_type": "code",
      "execution_count": null,
      "metadata": {
        "colab": {
          "base_uri": "https://localhost:8080/"
        },
        "id": "5nFyYCdL2Nco",
        "outputId": "bdde7173-c649-40bc-cbc3-e38a70c9f50a"
      },
      "outputs": [
        {
          "data": {
            "text/plain": [
              "{'context_precision': 0.6972, 'faithfulness': 0.3500, 'answer_relevancy': 0.9439, 'context_recall': 1.0000, 'context_relevancy': 0.0134, 'answer_correctness': 0.6000, 'answer_similarity': 1.0000}"
            ]
          },
          "execution_count": 48,
          "metadata": {},
          "output_type": "execute_result"
        }
      ],
      "source": [
        "pdr_qa_result"
      ]
    },
    {
      "cell_type": "markdown",
      "metadata": {
        "id": "JaNk6o7_BqX8"
      },
      "source": [
        "#### Ensemble Retrieval\n",
        "\n",
        "Next let's look at ensemble retrieval!\n",
        "\n",
        "You can read more about this [here](https://python.langchain.com/docs/modules/data_connection/retrievers/ensemble)!\n",
        "\n",
        "The basic idea is as follows:\n",
        "\n",
        "1. Obtain User Question\n",
        "2. Hit the Retriever Pair\n",
        "    - Retrieve Documents with BM25 Sparse Vector Retrieval\n",
        "    - Retrieve Documents with Dense Vector Retrieval Method\n",
        "3. Collect and \"fuse\" the retrieved docs based on their weighting using the [Reciprocal Rank Fusion](https://plg.uwaterloo.ca/~gvcormac/cormacksigir09-rrf.pdf) algorithm into a single ranked list.\n",
        "4. Use those documents to augment our generation.\n",
        "\n",
        "Ensure your `weights` list - the relative weighting of each retriever - sums to 1!"
      ]
    },
    {
      "cell_type": "code",
      "execution_count": null,
      "metadata": {
        "id": "zz7dl1GD5-L-"
      },
      "outputs": [],
      "source": [
        "!pip install -q -U rank_bm25"
      ]
    },
    {
      "cell_type": "code",
      "execution_count": null,
      "metadata": {
        "id": "Vs8wxT9b5pRA"
      },
      "outputs": [],
      "source": [
        "from langchain.retrievers import BM25Retriever, EnsembleRetriever\n",
        "\n",
        "text_splitter = RecursiveCharacterTextSplitter(chunk_size=450, chunk_overlap=75)\n",
        "docs = text_splitter.split_documents(base_docs)\n",
        "\n",
        "bm25_retriever = BM25Retriever.from_documents(docs)\n",
        "bm25_retriever.k = 2\n",
        "\n",
        "embedding = OpenAIEmbeddings()\n",
        "vectorstore = Chroma.from_documents(docs, embedding)\n",
        "chroma_retriever = vectorstore.as_retriever(search_kwargs={\"k\": 3})\n",
        "\n",
        "ensemble_retriever = EnsembleRetriever(retrievers=[bm25_retriever, chroma_retriever], weights=[0.75, 0.25])"
      ]
    },
    {
      "cell_type": "code",
      "execution_count": null,
      "metadata": {
        "id": "cv69YDpF6PrJ"
      },
      "outputs": [],
      "source": [
        "ensemble_retriever_qa_chain = create_qa_chain(ensemble_retriever)"
      ]
    },
    {
      "cell_type": "code",
      "execution_count": null,
      "metadata": {
        "colab": {
          "base_uri": "https://localhost:8080/",
          "height": 35
        },
        "id": "6lSszzrf6UmP",
        "outputId": "8a5893d5-4095-42e5-aecf-66d849512321"
      },
      "outputs": [
        {
          "data": {
            "application/vnd.google.colaboratory.intrinsic+json": {
              "type": "string"
            },
            "text/plain": [
              "'RAG stands for Retrieval-Augmented Generation.'"
            ]
          },
          "execution_count": 52,
          "metadata": {},
          "output_type": "execute_result"
        }
      ],
      "source": [
        "ensemble_retriever_qa_chain.invoke({\"question\" : \"What is RAG?\"})[\"response\"].content"
      ]
    },
    {
      "cell_type": "code",
      "execution_count": null,
      "metadata": {
        "colab": {
          "base_uri": "https://localhost:8080/"
        },
        "id": "abUgTGDT6UrV",
        "outputId": "749ae6db-75b9-48a7-e743-a8aecdcbd802"
      },
      "outputs": [
        {
          "name": "stderr",
          "output_type": "stream",
          "text": [
            "100%|██████████| 10/10 [00:20<00:00,  2.07s/it]\n"
          ]
        }
      ],
      "source": [
        "ensemble_qa_ragas_dataset = create_ragas_dataset(ensemble_retriever_qa_chain, eval_dataset)"
      ]
    },
    {
      "cell_type": "code",
      "execution_count": null,
      "metadata": {
        "colab": {
          "base_uri": "https://localhost:8080/",
          "height": 66,
          "referenced_widgets": [
            "632135599e39470aac1a3bb3d3de0ca4",
            "567176b50d074a1c9d384a8df8c3ff4c",
            "6bfa39f2c84e4f08b5ffb9a416398824",
            "911b40169865413b98643789150e5495",
            "2add9d30edd84152bb6d7bfa4ed2d910",
            "f34ffd11b98045b9bae326dd48a54896",
            "e3e19fc9963c4bf39293bda7c2030d5a",
            "c15c27b0523a429e9d77f439d47ada90",
            "256a0dbb2f104d928e181d2a882a9867",
            "68790cfe4ea14fc4a63275f3e99c468f",
            "e7df092ac205443e8baa3646ff1eae5b"
          ]
        },
        "id": "bGHipYsf7phk",
        "outputId": "a70b0d3e-870f-49b8-a16a-5b7d4623c33f"
      },
      "outputs": [
        {
          "data": {
            "application/vnd.jupyter.widget-view+json": {
              "model_id": "632135599e39470aac1a3bb3d3de0ca4",
              "version_major": 2,
              "version_minor": 0
            },
            "text/plain": [
              "Creating CSV from Arrow format:   0%|          | 0/1 [00:00<?, ?ba/s]"
            ]
          },
          "metadata": {},
          "output_type": "display_data"
        },
        {
          "data": {
            "text/plain": [
              "22820"
            ]
          },
          "execution_count": 54,
          "metadata": {},
          "output_type": "execute_result"
        }
      ],
      "source": [
        "ensemble_qa_ragas_dataset.to_csv(\"ensemble_qa_ragas_dataset.csv\")"
      ]
    },
    {
      "cell_type": "code",
      "execution_count": null,
      "metadata": {
        "colab": {
          "base_uri": "https://localhost:8080/"
        },
        "id": "Ozo0jkvx7r1d",
        "outputId": "f5770c52-4614-4172-8834-d48bd4005218"
      },
      "outputs": [
        {
          "name": "stdout",
          "output_type": "stream",
          "text": [
            "evaluating with [context_precision]\n"
          ]
        },
        {
          "name": "stderr",
          "output_type": "stream",
          "text": [
            "100%|██████████| 1/1 [01:01<00:00, 61.76s/it]\n"
          ]
        },
        {
          "name": "stdout",
          "output_type": "stream",
          "text": [
            "evaluating with [faithfulness]\n"
          ]
        },
        {
          "name": "stderr",
          "output_type": "stream",
          "text": [
            "100%|██████████| 1/1 [01:08<00:00, 68.62s/it]\n"
          ]
        },
        {
          "name": "stdout",
          "output_type": "stream",
          "text": [
            "evaluating with [answer_relevancy]\n"
          ]
        },
        {
          "name": "stderr",
          "output_type": "stream",
          "text": [
            "100%|██████████| 1/1 [00:05<00:00,  5.37s/it]\n"
          ]
        },
        {
          "name": "stdout",
          "output_type": "stream",
          "text": [
            "evaluating with [context_recall]\n"
          ]
        },
        {
          "name": "stderr",
          "output_type": "stream",
          "text": [
            "100%|██████████| 1/1 [00:11<00:00, 11.67s/it]\n"
          ]
        },
        {
          "name": "stdout",
          "output_type": "stream",
          "text": [
            "evaluating with [context_relevancy]\n"
          ]
        },
        {
          "name": "stderr",
          "output_type": "stream",
          "text": [
            "100%|██████████| 1/1 [01:02<00:00, 62.45s/it]\n"
          ]
        },
        {
          "name": "stdout",
          "output_type": "stream",
          "text": [
            "evaluating with [answer_correctness]\n"
          ]
        },
        {
          "name": "stderr",
          "output_type": "stream",
          "text": [
            "100%|██████████| 1/1 [00:08<00:00,  9.00s/it]\n"
          ]
        },
        {
          "name": "stdout",
          "output_type": "stream",
          "text": [
            "evaluating with [answer_similarity]\n"
          ]
        },
        {
          "name": "stderr",
          "output_type": "stream",
          "text": [
            "100%|██████████| 1/1 [00:00<00:00,  1.57it/s]\n"
          ]
        }
      ],
      "source": [
        "ensemble_qa_result = evaluate_ragas_dataset(ensemble_qa_ragas_dataset)"
      ]
    },
    {
      "cell_type": "code",
      "execution_count": null,
      "metadata": {
        "colab": {
          "base_uri": "https://localhost:8080/"
        },
        "id": "hvabdcbh793a",
        "outputId": "56daa44b-841b-4924-9242-77c2bc93f86e"
      },
      "outputs": [
        {
          "data": {
            "text/plain": [
              "{'context_precision': 0.8858, 'faithfulness': 0.7000, 'answer_relevancy': 0.8918, 'context_recall': 0.9800, 'context_relevancy': 0.0192, 'answer_correctness': 0.7750, 'answer_similarity': 1.0000}"
            ]
          },
          "execution_count": 56,
          "metadata": {},
          "output_type": "execute_result"
        }
      ],
      "source": [
        "ensemble_qa_result"
      ]
    },
    {
      "cell_type": "markdown",
      "metadata": {
        "id": "O4vXVWqiCcSI"
      },
      "source": [
        "### Conclusion\n",
        "\n",
        "Observe your results in a table!"
      ]
    },
    {
      "cell_type": "code",
      "execution_count": null,
      "metadata": {
        "colab": {
          "base_uri": "https://localhost:8080/"
        },
        "id": "PmBoVQ5hV3Kc",
        "outputId": "12196187-5cbf-40b2-f35f-ab45616e71a4"
      },
      "outputs": [
        {
          "data": {
            "text/plain": [
              "{'context_precision': 0.5000, 'faithfulness': 0.4000, 'answer_relevancy': 0.9535, 'context_recall': 1.0000, 'context_relevancy': 0.0559, 'answer_correctness': 0.6167, 'answer_similarity': 1.0000}"
            ]
          },
          "execution_count": 64,
          "metadata": {},
          "output_type": "execute_result"
        }
      ],
      "source": [
        "basic_qa_result"
      ]
    },
    {
      "cell_type": "code",
      "execution_count": null,
      "metadata": {
        "colab": {
          "base_uri": "https://localhost:8080/"
        },
        "id": "Ax1JLXKxUsXF",
        "outputId": "b83ba792-7e66-44ff-b219-0f3890a5fe8b"
      },
      "outputs": [
        {
          "data": {
            "text/plain": [
              "{'context_precision': 0.6972, 'faithfulness': 0.3500, 'answer_relevancy': 0.9439, 'context_recall': 1.0000, 'context_relevancy': 0.0134, 'answer_correctness': 0.6000, 'answer_similarity': 1.0000}"
            ]
          },
          "execution_count": 59,
          "metadata": {},
          "output_type": "execute_result"
        }
      ],
      "source": [
        "pdr_qa_result"
      ]
    },
    {
      "cell_type": "code",
      "execution_count": null,
      "metadata": {
        "colab": {
          "base_uri": "https://localhost:8080/"
        },
        "id": "drxLlO3zUpyQ",
        "outputId": "3b595607-2fa5-4590-d2e6-9707aa7bb283"
      },
      "outputs": [
        {
          "data": {
            "text/plain": [
              "{'context_precision': 0.8858, 'faithfulness': 0.7000, 'answer_relevancy': 0.8918, 'context_recall': 0.9800, 'context_relevancy': 0.0192, 'answer_correctness': 0.7750, 'answer_similarity': 1.0000}"
            ]
          },
          "execution_count": 58,
          "metadata": {},
          "output_type": "execute_result"
        }
      ],
      "source": [
        "ensemble_qa_result"
      ]
    },
    {
      "cell_type": "markdown",
      "metadata": {
        "id": "r6YPGf-2l0Kx"
      },
      "source": [
        "We can also zoom in on each result and find specific information about each of the questions and answers."
      ]
    },
    {
      "cell_type": "code",
      "execution_count": null,
      "metadata": {
        "id": "SkxLtk43ikka"
      },
      "outputs": [],
      "source": [
        "ensemble_qa_result_df = ensemble_qa_result.to_pandas()"
      ]
    },
    {
      "cell_type": "code",
      "execution_count": null,
      "metadata": {
        "colab": {
          "base_uri": "https://localhost:8080/",
          "height": 1000
        },
        "id": "3JZMhUg3jSvE",
        "outputId": "95d1cf44-88ee-4056-b698-64237b119fe0"
      },
      "outputs": [
        {
          "data": {
            "text/html": [
              "\n",
              "  <div id=\"df-a1e0be28-2fa7-4b13-8d13-5b1c1554cdd9\" class=\"colab-df-container\">\n",
              "    <div>\n",
              "<style scoped>\n",
              "    .dataframe tbody tr th:only-of-type {\n",
              "        vertical-align: middle;\n",
              "    }\n",
              "\n",
              "    .dataframe tbody tr th {\n",
              "        vertical-align: top;\n",
              "    }\n",
              "\n",
              "    .dataframe thead th {\n",
              "        text-align: right;\n",
              "    }\n",
              "</style>\n",
              "<table border=\"1\" class=\"dataframe\">\n",
              "  <thead>\n",
              "    <tr style=\"text-align: right;\">\n",
              "      <th></th>\n",
              "      <th>question</th>\n",
              "      <th>contexts</th>\n",
              "      <th>answer</th>\n",
              "      <th>ground_truths</th>\n",
              "      <th>context_precision</th>\n",
              "      <th>faithfulness</th>\n",
              "      <th>answer_relevancy</th>\n",
              "      <th>context_recall</th>\n",
              "      <th>context_relevancy</th>\n",
              "      <th>answer_correctness</th>\n",
              "      <th>answer_similarity</th>\n",
              "    </tr>\n",
              "  </thead>\n",
              "  <tbody>\n",
              "    <tr>\n",
              "      <th>0</th>\n",
              "      <td>What is the focus of this paper?</td>\n",
              "      <td>[has to make an important career decision.\\nNe...</td>\n",
              "      <td>The focus of this paper is on a framework call...</td>\n",
              "      <td>[The focus of this paper is on retrieval-augme...</td>\n",
              "      <td>1.000000</td>\n",
              "      <td>0.666667</td>\n",
              "      <td>0.784617</td>\n",
              "      <td>1.0</td>\n",
              "      <td>0.000000</td>\n",
              "      <td>0.50</td>\n",
              "      <td>True</td>\n",
              "    </tr>\n",
              "    <tr>\n",
              "      <th>1</th>\n",
              "      <td>What is the title of the paper?</td>\n",
              "      <td>[of War. The game was released worldwide in\\nG...</td>\n",
              "      <td>Title: Self-RAG: Learning to Retrieve, Generat...</td>\n",
              "      <td>[The title of the paper is 'A Survey on Retrie...</td>\n",
              "      <td>0.500000</td>\n",
              "      <td>1.000000</td>\n",
              "      <td>0.976911</td>\n",
              "      <td>1.0</td>\n",
              "      <td>0.000000</td>\n",
              "      <td>0.50</td>\n",
              "      <td>True</td>\n",
              "    </tr>\n",
              "    <tr>\n",
              "      <th>2</th>\n",
              "      <td>What is the aim of this paper?</td>\n",
              "      <td>[has to make an important career decision.\\nNe...</td>\n",
              "      <td>The aim of this paper is to introduce a new fr...</td>\n",
              "      <td>[The aim of this paper is to conduct a compreh...</td>\n",
              "      <td>1.000000</td>\n",
              "      <td>0.333333</td>\n",
              "      <td>0.800732</td>\n",
              "      <td>1.0</td>\n",
              "      <td>0.078947</td>\n",
              "      <td>0.75</td>\n",
              "      <td>True</td>\n",
              "    </tr>\n",
              "    <tr>\n",
              "      <th>3</th>\n",
              "      <td>What is the main focus of the paper 'A Survey ...</td>\n",
              "      <td>[A Survey on Retrieval-Augmented Text Generati...</td>\n",
              "      <td>The main focus of the paper 'A Survey on Retri...</td>\n",
              "      <td>[The main focus of the paper 'A Survey on Retr...</td>\n",
              "      <td>0.679167</td>\n",
              "      <td>1.000000</td>\n",
              "      <td>0.982435</td>\n",
              "      <td>0.8</td>\n",
              "      <td>0.017857</td>\n",
              "      <td>1.00</td>\n",
              "      <td>True</td>\n",
              "    </tr>\n",
              "    <tr>\n",
              "      <th>4</th>\n",
              "      <td>What is the main focus of this paper?</td>\n",
              "      <td>[example of completions of the prompt by diffe...</td>\n",
              "      <td>I don't know.</td>\n",
              "      <td>[The main focus of this paper is to conduct a ...</td>\n",
              "      <td>1.000000</td>\n",
              "      <td>0.000000</td>\n",
              "      <td>0.742601</td>\n",
              "      <td>1.0</td>\n",
              "      <td>0.000000</td>\n",
              "      <td>0.50</td>\n",
              "      <td>True</td>\n",
              "    </tr>\n",
              "    <tr>\n",
              "      <th>5</th>\n",
              "      <td>What is the main focus of this paper?</td>\n",
              "      <td>[example of completions of the prompt by diffe...</td>\n",
              "      <td>I don't know.</td>\n",
              "      <td>[The main focus of this paper is to conduct a ...</td>\n",
              "      <td>1.000000</td>\n",
              "      <td>0.000000</td>\n",
              "      <td>0.742601</td>\n",
              "      <td>1.0</td>\n",
              "      <td>0.000000</td>\n",
              "      <td>0.50</td>\n",
              "      <td>True</td>\n",
              "    </tr>\n",
              "    <tr>\n",
              "      <th>6</th>\n",
              "      <td>What are the advantages of retrieval-augmented...</td>\n",
              "      <td>[attracted increasing attention of the compu-\\...</td>\n",
              "      <td>The advantages of retrieval-augmented text gen...</td>\n",
              "      <td>[The advantages of retrieval-augmented text ge...</td>\n",
              "      <td>1.000000</td>\n",
              "      <td>1.000000</td>\n",
              "      <td>0.968712</td>\n",
              "      <td>1.0</td>\n",
              "      <td>0.025641</td>\n",
              "      <td>1.00</td>\n",
              "      <td>True</td>\n",
              "    </tr>\n",
              "    <tr>\n",
              "      <th>7</th>\n",
              "      <td>What is the main focus of the paper 'A Survey ...</td>\n",
              "      <td>[A Survey on Retrieval-Augmented Text Generati...</td>\n",
              "      <td>The main focus of the paper 'A Survey on Retri...</td>\n",
              "      <td>[The main focus of the paper 'A Survey on Retr...</td>\n",
              "      <td>0.679167</td>\n",
              "      <td>1.000000</td>\n",
              "      <td>0.982422</td>\n",
              "      <td>1.0</td>\n",
              "      <td>0.017857</td>\n",
              "      <td>1.00</td>\n",
              "      <td>True</td>\n",
              "    </tr>\n",
              "    <tr>\n",
              "      <th>8</th>\n",
              "      <td>What are the advantages of retrieval-augmented...</td>\n",
              "      <td>[attracted increasing attention of the compu-\\...</td>\n",
              "      <td>The advantages of retrieval-augmented text gen...</td>\n",
              "      <td>[The advantages of retrieval-augmented text ge...</td>\n",
              "      <td>1.000000</td>\n",
              "      <td>1.000000</td>\n",
              "      <td>0.968731</td>\n",
              "      <td>1.0</td>\n",
              "      <td>0.025641</td>\n",
              "      <td>1.00</td>\n",
              "      <td>True</td>\n",
              "    </tr>\n",
              "    <tr>\n",
              "      <th>9</th>\n",
              "      <td>What are the advantages of retrieval-augmented...</td>\n",
              "      <td>[attracted increasing attention of the compu-\\...</td>\n",
              "      <td>The advantages of retrieval-augmented text gen...</td>\n",
              "      <td>[The advantages of retrieval-augmented text ge...</td>\n",
              "      <td>1.000000</td>\n",
              "      <td>1.000000</td>\n",
              "      <td>0.968692</td>\n",
              "      <td>1.0</td>\n",
              "      <td>0.025641</td>\n",
              "      <td>1.00</td>\n",
              "      <td>True</td>\n",
              "    </tr>\n",
              "  </tbody>\n",
              "</table>\n",
              "</div>\n",
              "    <div class=\"colab-df-buttons\">\n",
              "\n",
              "  <div class=\"colab-df-container\">\n",
              "    <button class=\"colab-df-convert\" onclick=\"convertToInteractive('df-a1e0be28-2fa7-4b13-8d13-5b1c1554cdd9')\"\n",
              "            title=\"Convert this dataframe to an interactive table.\"\n",
              "            style=\"display:none;\">\n",
              "\n",
              "  <svg xmlns=\"http://www.w3.org/2000/svg\" height=\"24px\" viewBox=\"0 -960 960 960\">\n",
              "    <path d=\"M120-120v-720h720v720H120Zm60-500h600v-160H180v160Zm220 220h160v-160H400v160Zm0 220h160v-160H400v160ZM180-400h160v-160H180v160Zm440 0h160v-160H620v160ZM180-180h160v-160H180v160Zm440 0h160v-160H620v160Z\"/>\n",
              "  </svg>\n",
              "    </button>\n",
              "\n",
              "  <style>\n",
              "    .colab-df-container {\n",
              "      display:flex;\n",
              "      gap: 12px;\n",
              "    }\n",
              "\n",
              "    .colab-df-convert {\n",
              "      background-color: #E8F0FE;\n",
              "      border: none;\n",
              "      border-radius: 50%;\n",
              "      cursor: pointer;\n",
              "      display: none;\n",
              "      fill: #1967D2;\n",
              "      height: 32px;\n",
              "      padding: 0 0 0 0;\n",
              "      width: 32px;\n",
              "    }\n",
              "\n",
              "    .colab-df-convert:hover {\n",
              "      background-color: #E2EBFA;\n",
              "      box-shadow: 0px 1px 2px rgba(60, 64, 67, 0.3), 0px 1px 3px 1px rgba(60, 64, 67, 0.15);\n",
              "      fill: #174EA6;\n",
              "    }\n",
              "\n",
              "    .colab-df-buttons div {\n",
              "      margin-bottom: 4px;\n",
              "    }\n",
              "\n",
              "    [theme=dark] .colab-df-convert {\n",
              "      background-color: #3B4455;\n",
              "      fill: #D2E3FC;\n",
              "    }\n",
              "\n",
              "    [theme=dark] .colab-df-convert:hover {\n",
              "      background-color: #434B5C;\n",
              "      box-shadow: 0px 1px 3px 1px rgba(0, 0, 0, 0.15);\n",
              "      filter: drop-shadow(0px 1px 2px rgba(0, 0, 0, 0.3));\n",
              "      fill: #FFFFFF;\n",
              "    }\n",
              "  </style>\n",
              "\n",
              "    <script>\n",
              "      const buttonEl =\n",
              "        document.querySelector('#df-a1e0be28-2fa7-4b13-8d13-5b1c1554cdd9 button.colab-df-convert');\n",
              "      buttonEl.style.display =\n",
              "        google.colab.kernel.accessAllowed ? 'block' : 'none';\n",
              "\n",
              "      async function convertToInteractive(key) {\n",
              "        const element = document.querySelector('#df-a1e0be28-2fa7-4b13-8d13-5b1c1554cdd9');\n",
              "        const dataTable =\n",
              "          await google.colab.kernel.invokeFunction('convertToInteractive',\n",
              "                                                    [key], {});\n",
              "        if (!dataTable) return;\n",
              "\n",
              "        const docLinkHtml = 'Like what you see? Visit the ' +\n",
              "          '<a target=\"_blank\" href=https://colab.research.google.com/notebooks/data_table.ipynb>data table notebook</a>'\n",
              "          + ' to learn more about interactive tables.';\n",
              "        element.innerHTML = '';\n",
              "        dataTable['output_type'] = 'display_data';\n",
              "        await google.colab.output.renderOutput(dataTable, element);\n",
              "        const docLink = document.createElement('div');\n",
              "        docLink.innerHTML = docLinkHtml;\n",
              "        element.appendChild(docLink);\n",
              "      }\n",
              "    </script>\n",
              "  </div>\n",
              "\n",
              "\n",
              "<div id=\"df-9d17e429-a85f-4eed-ab52-253849a35ce1\">\n",
              "  <button class=\"colab-df-quickchart\" onclick=\"quickchart('df-9d17e429-a85f-4eed-ab52-253849a35ce1')\"\n",
              "            title=\"Suggest charts\"\n",
              "            style=\"display:none;\">\n",
              "\n",
              "<svg xmlns=\"http://www.w3.org/2000/svg\" height=\"24px\"viewBox=\"0 0 24 24\"\n",
              "     width=\"24px\">\n",
              "    <g>\n",
              "        <path d=\"M19 3H5c-1.1 0-2 .9-2 2v14c0 1.1.9 2 2 2h14c1.1 0 2-.9 2-2V5c0-1.1-.9-2-2-2zM9 17H7v-7h2v7zm4 0h-2V7h2v10zm4 0h-2v-4h2v4z\"/>\n",
              "    </g>\n",
              "</svg>\n",
              "  </button>\n",
              "\n",
              "<style>\n",
              "  .colab-df-quickchart {\n",
              "      --bg-color: #E8F0FE;\n",
              "      --fill-color: #1967D2;\n",
              "      --hover-bg-color: #E2EBFA;\n",
              "      --hover-fill-color: #174EA6;\n",
              "      --disabled-fill-color: #AAA;\n",
              "      --disabled-bg-color: #DDD;\n",
              "  }\n",
              "\n",
              "  [theme=dark] .colab-df-quickchart {\n",
              "      --bg-color: #3B4455;\n",
              "      --fill-color: #D2E3FC;\n",
              "      --hover-bg-color: #434B5C;\n",
              "      --hover-fill-color: #FFFFFF;\n",
              "      --disabled-bg-color: #3B4455;\n",
              "      --disabled-fill-color: #666;\n",
              "  }\n",
              "\n",
              "  .colab-df-quickchart {\n",
              "    background-color: var(--bg-color);\n",
              "    border: none;\n",
              "    border-radius: 50%;\n",
              "    cursor: pointer;\n",
              "    display: none;\n",
              "    fill: var(--fill-color);\n",
              "    height: 32px;\n",
              "    padding: 0;\n",
              "    width: 32px;\n",
              "  }\n",
              "\n",
              "  .colab-df-quickchart:hover {\n",
              "    background-color: var(--hover-bg-color);\n",
              "    box-shadow: 0 1px 2px rgba(60, 64, 67, 0.3), 0 1px 3px 1px rgba(60, 64, 67, 0.15);\n",
              "    fill: var(--button-hover-fill-color);\n",
              "  }\n",
              "\n",
              "  .colab-df-quickchart-complete:disabled,\n",
              "  .colab-df-quickchart-complete:disabled:hover {\n",
              "    background-color: var(--disabled-bg-color);\n",
              "    fill: var(--disabled-fill-color);\n",
              "    box-shadow: none;\n",
              "  }\n",
              "\n",
              "  .colab-df-spinner {\n",
              "    border: 2px solid var(--fill-color);\n",
              "    border-color: transparent;\n",
              "    border-bottom-color: var(--fill-color);\n",
              "    animation:\n",
              "      spin 1s steps(1) infinite;\n",
              "  }\n",
              "\n",
              "  @keyframes spin {\n",
              "    0% {\n",
              "      border-color: transparent;\n",
              "      border-bottom-color: var(--fill-color);\n",
              "      border-left-color: var(--fill-color);\n",
              "    }\n",
              "    20% {\n",
              "      border-color: transparent;\n",
              "      border-left-color: var(--fill-color);\n",
              "      border-top-color: var(--fill-color);\n",
              "    }\n",
              "    30% {\n",
              "      border-color: transparent;\n",
              "      border-left-color: var(--fill-color);\n",
              "      border-top-color: var(--fill-color);\n",
              "      border-right-color: var(--fill-color);\n",
              "    }\n",
              "    40% {\n",
              "      border-color: transparent;\n",
              "      border-right-color: var(--fill-color);\n",
              "      border-top-color: var(--fill-color);\n",
              "    }\n",
              "    60% {\n",
              "      border-color: transparent;\n",
              "      border-right-color: var(--fill-color);\n",
              "    }\n",
              "    80% {\n",
              "      border-color: transparent;\n",
              "      border-right-color: var(--fill-color);\n",
              "      border-bottom-color: var(--fill-color);\n",
              "    }\n",
              "    90% {\n",
              "      border-color: transparent;\n",
              "      border-bottom-color: var(--fill-color);\n",
              "    }\n",
              "  }\n",
              "</style>\n",
              "\n",
              "  <script>\n",
              "    async function quickchart(key) {\n",
              "      const quickchartButtonEl =\n",
              "        document.querySelector('#' + key + ' button');\n",
              "      quickchartButtonEl.disabled = true;  // To prevent multiple clicks.\n",
              "      quickchartButtonEl.classList.add('colab-df-spinner');\n",
              "      try {\n",
              "        const charts = await google.colab.kernel.invokeFunction(\n",
              "            'suggestCharts', [key], {});\n",
              "      } catch (error) {\n",
              "        console.error('Error during call to suggestCharts:', error);\n",
              "      }\n",
              "      quickchartButtonEl.classList.remove('colab-df-spinner');\n",
              "      quickchartButtonEl.classList.add('colab-df-quickchart-complete');\n",
              "    }\n",
              "    (() => {\n",
              "      let quickchartButtonEl =\n",
              "        document.querySelector('#df-9d17e429-a85f-4eed-ab52-253849a35ce1 button');\n",
              "      quickchartButtonEl.style.display =\n",
              "        google.colab.kernel.accessAllowed ? 'block' : 'none';\n",
              "    })();\n",
              "  </script>\n",
              "</div>\n",
              "    </div>\n",
              "  </div>\n"
            ],
            "text/plain": [
              "                                            question  \\\n",
              "0                   What is the focus of this paper?   \n",
              "1                    What is the title of the paper?   \n",
              "2                     What is the aim of this paper?   \n",
              "3  What is the main focus of the paper 'A Survey ...   \n",
              "4              What is the main focus of this paper?   \n",
              "5              What is the main focus of this paper?   \n",
              "6  What are the advantages of retrieval-augmented...   \n",
              "7  What is the main focus of the paper 'A Survey ...   \n",
              "8  What are the advantages of retrieval-augmented...   \n",
              "9  What are the advantages of retrieval-augmented...   \n",
              "\n",
              "                                            contexts  \\\n",
              "0  [has to make an important career decision.\\nNe...   \n",
              "1  [of War. The game was released worldwide in\\nG...   \n",
              "2  [has to make an important career decision.\\nNe...   \n",
              "3  [A Survey on Retrieval-Augmented Text Generati...   \n",
              "4  [example of completions of the prompt by diffe...   \n",
              "5  [example of completions of the prompt by diffe...   \n",
              "6  [attracted increasing attention of the compu-\\...   \n",
              "7  [A Survey on Retrieval-Augmented Text Generati...   \n",
              "8  [attracted increasing attention of the compu-\\...   \n",
              "9  [attracted increasing attention of the compu-\\...   \n",
              "\n",
              "                                              answer  \\\n",
              "0  The focus of this paper is on a framework call...   \n",
              "1  Title: Self-RAG: Learning to Retrieve, Generat...   \n",
              "2  The aim of this paper is to introduce a new fr...   \n",
              "3  The main focus of the paper 'A Survey on Retri...   \n",
              "4                                      I don't know.   \n",
              "5                                      I don't know.   \n",
              "6  The advantages of retrieval-augmented text gen...   \n",
              "7  The main focus of the paper 'A Survey on Retri...   \n",
              "8  The advantages of retrieval-augmented text gen...   \n",
              "9  The advantages of retrieval-augmented text gen...   \n",
              "\n",
              "                                       ground_truths  context_precision  \\\n",
              "0  [The focus of this paper is on retrieval-augme...           1.000000   \n",
              "1  [The title of the paper is 'A Survey on Retrie...           0.500000   \n",
              "2  [The aim of this paper is to conduct a compreh...           1.000000   \n",
              "3  [The main focus of the paper 'A Survey on Retr...           0.679167   \n",
              "4  [The main focus of this paper is to conduct a ...           1.000000   \n",
              "5  [The main focus of this paper is to conduct a ...           1.000000   \n",
              "6  [The advantages of retrieval-augmented text ge...           1.000000   \n",
              "7  [The main focus of the paper 'A Survey on Retr...           0.679167   \n",
              "8  [The advantages of retrieval-augmented text ge...           1.000000   \n",
              "9  [The advantages of retrieval-augmented text ge...           1.000000   \n",
              "\n",
              "   faithfulness  answer_relevancy  context_recall  context_relevancy  \\\n",
              "0      0.666667          0.784617             1.0           0.000000   \n",
              "1      1.000000          0.976911             1.0           0.000000   \n",
              "2      0.333333          0.800732             1.0           0.078947   \n",
              "3      1.000000          0.982435             0.8           0.017857   \n",
              "4      0.000000          0.742601             1.0           0.000000   \n",
              "5      0.000000          0.742601             1.0           0.000000   \n",
              "6      1.000000          0.968712             1.0           0.025641   \n",
              "7      1.000000          0.982422             1.0           0.017857   \n",
              "8      1.000000          0.968731             1.0           0.025641   \n",
              "9      1.000000          0.968692             1.0           0.025641   \n",
              "\n",
              "   answer_correctness  answer_similarity  \n",
              "0                0.50               True  \n",
              "1                0.50               True  \n",
              "2                0.75               True  \n",
              "3                1.00               True  \n",
              "4                0.50               True  \n",
              "5                0.50               True  \n",
              "6                1.00               True  \n",
              "7                1.00               True  \n",
              "8                1.00               True  \n",
              "9                1.00               True  "
            ]
          },
          "execution_count": 77,
          "metadata": {},
          "output_type": "execute_result"
        }
      ],
      "source": [
        "ensemble_qa_result_df"
      ]
    },
    {
      "cell_type": "markdown",
      "metadata": {
        "id": "0jXR7ckel-v8"
      },
      "source": [
        "We'll also look at combining the results and looking at them in a single table so we can make inferences about them!"
      ]
    },
    {
      "cell_type": "code",
      "execution_count": null,
      "metadata": {
        "id": "BE5KKE_JkcD3"
      },
      "outputs": [],
      "source": [
        "def create_df_dict(pipeline_name, pipeline_items):\n",
        "  df_dict = {\"name\" : pipeline_name}\n",
        "  for name, score in pipeline_items:\n",
        "    df_dict[name] = score\n",
        "  return df_dict"
      ]
    },
    {
      "cell_type": "code",
      "execution_count": null,
      "metadata": {
        "id": "L1mPqYdqk4iQ"
      },
      "outputs": [],
      "source": [
        "basic_rag_df_dict = create_df_dict(\"basic_rag\", basic_qa_result.items())"
      ]
    },
    {
      "cell_type": "code",
      "execution_count": null,
      "metadata": {
        "id": "ntJPzwy9lI46"
      },
      "outputs": [],
      "source": [
        "pdr_rag_df_dict = create_df_dict(\"pdr_rag\", pdr_qa_result.items())"
      ]
    },
    {
      "cell_type": "code",
      "execution_count": null,
      "metadata": {
        "id": "R0fkbIQElPza"
      },
      "outputs": [],
      "source": [
        "ensemble_rag_df_dict = create_df_dict(\"ensemble_rag\", ensemble_qa_result.items())"
      ]
    },
    {
      "cell_type": "code",
      "execution_count": null,
      "metadata": {
        "id": "Bc4T1E83lVbE"
      },
      "outputs": [],
      "source": [
        "results_df = pd.DataFrame([basic_rag_df_dict, pdr_rag_df_dict, ensemble_rag_df_dict])"
      ]
    },
    {
      "cell_type": "code",
      "execution_count": null,
      "metadata": {
        "colab": {
          "base_uri": "https://localhost:8080/",
          "height": 163
        },
        "id": "cv_9wNYGlibg",
        "outputId": "6580c17c-543a-4d54-8577-104c0173f368"
      },
      "outputs": [
        {
          "data": {
            "text/html": [
              "\n",
              "  <div id=\"df-b21809b4-1506-4413-b95a-a7bdc7cf6816\" class=\"colab-df-container\">\n",
              "    <div>\n",
              "<style scoped>\n",
              "    .dataframe tbody tr th:only-of-type {\n",
              "        vertical-align: middle;\n",
              "    }\n",
              "\n",
              "    .dataframe tbody tr th {\n",
              "        vertical-align: top;\n",
              "    }\n",
              "\n",
              "    .dataframe thead th {\n",
              "        text-align: right;\n",
              "    }\n",
              "</style>\n",
              "<table border=\"1\" class=\"dataframe\">\n",
              "  <thead>\n",
              "    <tr style=\"text-align: right;\">\n",
              "      <th></th>\n",
              "      <th>name</th>\n",
              "      <th>context_precision</th>\n",
              "      <th>faithfulness</th>\n",
              "      <th>answer_relevancy</th>\n",
              "      <th>context_recall</th>\n",
              "      <th>context_relevancy</th>\n",
              "      <th>answer_correctness</th>\n",
              "      <th>answer_similarity</th>\n",
              "    </tr>\n",
              "  </thead>\n",
              "  <tbody>\n",
              "    <tr>\n",
              "      <th>2</th>\n",
              "      <td>ensemble_rag</td>\n",
              "      <td>0.885833</td>\n",
              "      <td>0.70</td>\n",
              "      <td>0.891845</td>\n",
              "      <td>0.98</td>\n",
              "      <td>0.019158</td>\n",
              "      <td>0.775000</td>\n",
              "      <td>1.0</td>\n",
              "    </tr>\n",
              "    <tr>\n",
              "      <th>0</th>\n",
              "      <td>basic_rag</td>\n",
              "      <td>0.500000</td>\n",
              "      <td>0.40</td>\n",
              "      <td>0.953475</td>\n",
              "      <td>1.00</td>\n",
              "      <td>0.055904</td>\n",
              "      <td>0.616667</td>\n",
              "      <td>1.0</td>\n",
              "    </tr>\n",
              "    <tr>\n",
              "      <th>1</th>\n",
              "      <td>pdr_rag</td>\n",
              "      <td>0.697222</td>\n",
              "      <td>0.35</td>\n",
              "      <td>0.943909</td>\n",
              "      <td>1.00</td>\n",
              "      <td>0.013386</td>\n",
              "      <td>0.600000</td>\n",
              "      <td>1.0</td>\n",
              "    </tr>\n",
              "  </tbody>\n",
              "</table>\n",
              "</div>\n",
              "    <div class=\"colab-df-buttons\">\n",
              "\n",
              "  <div class=\"colab-df-container\">\n",
              "    <button class=\"colab-df-convert\" onclick=\"convertToInteractive('df-b21809b4-1506-4413-b95a-a7bdc7cf6816')\"\n",
              "            title=\"Convert this dataframe to an interactive table.\"\n",
              "            style=\"display:none;\">\n",
              "\n",
              "  <svg xmlns=\"http://www.w3.org/2000/svg\" height=\"24px\" viewBox=\"0 -960 960 960\">\n",
              "    <path d=\"M120-120v-720h720v720H120Zm60-500h600v-160H180v160Zm220 220h160v-160H400v160Zm0 220h160v-160H400v160ZM180-400h160v-160H180v160Zm440 0h160v-160H620v160ZM180-180h160v-160H180v160Zm440 0h160v-160H620v160Z\"/>\n",
              "  </svg>\n",
              "    </button>\n",
              "\n",
              "  <style>\n",
              "    .colab-df-container {\n",
              "      display:flex;\n",
              "      gap: 12px;\n",
              "    }\n",
              "\n",
              "    .colab-df-convert {\n",
              "      background-color: #E8F0FE;\n",
              "      border: none;\n",
              "      border-radius: 50%;\n",
              "      cursor: pointer;\n",
              "      display: none;\n",
              "      fill: #1967D2;\n",
              "      height: 32px;\n",
              "      padding: 0 0 0 0;\n",
              "      width: 32px;\n",
              "    }\n",
              "\n",
              "    .colab-df-convert:hover {\n",
              "      background-color: #E2EBFA;\n",
              "      box-shadow: 0px 1px 2px rgba(60, 64, 67, 0.3), 0px 1px 3px 1px rgba(60, 64, 67, 0.15);\n",
              "      fill: #174EA6;\n",
              "    }\n",
              "\n",
              "    .colab-df-buttons div {\n",
              "      margin-bottom: 4px;\n",
              "    }\n",
              "\n",
              "    [theme=dark] .colab-df-convert {\n",
              "      background-color: #3B4455;\n",
              "      fill: #D2E3FC;\n",
              "    }\n",
              "\n",
              "    [theme=dark] .colab-df-convert:hover {\n",
              "      background-color: #434B5C;\n",
              "      box-shadow: 0px 1px 3px 1px rgba(0, 0, 0, 0.15);\n",
              "      filter: drop-shadow(0px 1px 2px rgba(0, 0, 0, 0.3));\n",
              "      fill: #FFFFFF;\n",
              "    }\n",
              "  </style>\n",
              "\n",
              "    <script>\n",
              "      const buttonEl =\n",
              "        document.querySelector('#df-b21809b4-1506-4413-b95a-a7bdc7cf6816 button.colab-df-convert');\n",
              "      buttonEl.style.display =\n",
              "        google.colab.kernel.accessAllowed ? 'block' : 'none';\n",
              "\n",
              "      async function convertToInteractive(key) {\n",
              "        const element = document.querySelector('#df-b21809b4-1506-4413-b95a-a7bdc7cf6816');\n",
              "        const dataTable =\n",
              "          await google.colab.kernel.invokeFunction('convertToInteractive',\n",
              "                                                    [key], {});\n",
              "        if (!dataTable) return;\n",
              "\n",
              "        const docLinkHtml = 'Like what you see? Visit the ' +\n",
              "          '<a target=\"_blank\" href=https://colab.research.google.com/notebooks/data_table.ipynb>data table notebook</a>'\n",
              "          + ' to learn more about interactive tables.';\n",
              "        element.innerHTML = '';\n",
              "        dataTable['output_type'] = 'display_data';\n",
              "        await google.colab.output.renderOutput(dataTable, element);\n",
              "        const docLink = document.createElement('div');\n",
              "        docLink.innerHTML = docLinkHtml;\n",
              "        element.appendChild(docLink);\n",
              "      }\n",
              "    </script>\n",
              "  </div>\n",
              "\n",
              "\n",
              "<div id=\"df-43d2deee-1b4d-4900-9ce8-743ac419b9d1\">\n",
              "  <button class=\"colab-df-quickchart\" onclick=\"quickchart('df-43d2deee-1b4d-4900-9ce8-743ac419b9d1')\"\n",
              "            title=\"Suggest charts\"\n",
              "            style=\"display:none;\">\n",
              "\n",
              "<svg xmlns=\"http://www.w3.org/2000/svg\" height=\"24px\"viewBox=\"0 0 24 24\"\n",
              "     width=\"24px\">\n",
              "    <g>\n",
              "        <path d=\"M19 3H5c-1.1 0-2 .9-2 2v14c0 1.1.9 2 2 2h14c1.1 0 2-.9 2-2V5c0-1.1-.9-2-2-2zM9 17H7v-7h2v7zm4 0h-2V7h2v10zm4 0h-2v-4h2v4z\"/>\n",
              "    </g>\n",
              "</svg>\n",
              "  </button>\n",
              "\n",
              "<style>\n",
              "  .colab-df-quickchart {\n",
              "      --bg-color: #E8F0FE;\n",
              "      --fill-color: #1967D2;\n",
              "      --hover-bg-color: #E2EBFA;\n",
              "      --hover-fill-color: #174EA6;\n",
              "      --disabled-fill-color: #AAA;\n",
              "      --disabled-bg-color: #DDD;\n",
              "  }\n",
              "\n",
              "  [theme=dark] .colab-df-quickchart {\n",
              "      --bg-color: #3B4455;\n",
              "      --fill-color: #D2E3FC;\n",
              "      --hover-bg-color: #434B5C;\n",
              "      --hover-fill-color: #FFFFFF;\n",
              "      --disabled-bg-color: #3B4455;\n",
              "      --disabled-fill-color: #666;\n",
              "  }\n",
              "\n",
              "  .colab-df-quickchart {\n",
              "    background-color: var(--bg-color);\n",
              "    border: none;\n",
              "    border-radius: 50%;\n",
              "    cursor: pointer;\n",
              "    display: none;\n",
              "    fill: var(--fill-color);\n",
              "    height: 32px;\n",
              "    padding: 0;\n",
              "    width: 32px;\n",
              "  }\n",
              "\n",
              "  .colab-df-quickchart:hover {\n",
              "    background-color: var(--hover-bg-color);\n",
              "    box-shadow: 0 1px 2px rgba(60, 64, 67, 0.3), 0 1px 3px 1px rgba(60, 64, 67, 0.15);\n",
              "    fill: var(--button-hover-fill-color);\n",
              "  }\n",
              "\n",
              "  .colab-df-quickchart-complete:disabled,\n",
              "  .colab-df-quickchart-complete:disabled:hover {\n",
              "    background-color: var(--disabled-bg-color);\n",
              "    fill: var(--disabled-fill-color);\n",
              "    box-shadow: none;\n",
              "  }\n",
              "\n",
              "  .colab-df-spinner {\n",
              "    border: 2px solid var(--fill-color);\n",
              "    border-color: transparent;\n",
              "    border-bottom-color: var(--fill-color);\n",
              "    animation:\n",
              "      spin 1s steps(1) infinite;\n",
              "  }\n",
              "\n",
              "  @keyframes spin {\n",
              "    0% {\n",
              "      border-color: transparent;\n",
              "      border-bottom-color: var(--fill-color);\n",
              "      border-left-color: var(--fill-color);\n",
              "    }\n",
              "    20% {\n",
              "      border-color: transparent;\n",
              "      border-left-color: var(--fill-color);\n",
              "      border-top-color: var(--fill-color);\n",
              "    }\n",
              "    30% {\n",
              "      border-color: transparent;\n",
              "      border-left-color: var(--fill-color);\n",
              "      border-top-color: var(--fill-color);\n",
              "      border-right-color: var(--fill-color);\n",
              "    }\n",
              "    40% {\n",
              "      border-color: transparent;\n",
              "      border-right-color: var(--fill-color);\n",
              "      border-top-color: var(--fill-color);\n",
              "    }\n",
              "    60% {\n",
              "      border-color: transparent;\n",
              "      border-right-color: var(--fill-color);\n",
              "    }\n",
              "    80% {\n",
              "      border-color: transparent;\n",
              "      border-right-color: var(--fill-color);\n",
              "      border-bottom-color: var(--fill-color);\n",
              "    }\n",
              "    90% {\n",
              "      border-color: transparent;\n",
              "      border-bottom-color: var(--fill-color);\n",
              "    }\n",
              "  }\n",
              "</style>\n",
              "\n",
              "  <script>\n",
              "    async function quickchart(key) {\n",
              "      const quickchartButtonEl =\n",
              "        document.querySelector('#' + key + ' button');\n",
              "      quickchartButtonEl.disabled = true;  // To prevent multiple clicks.\n",
              "      quickchartButtonEl.classList.add('colab-df-spinner');\n",
              "      try {\n",
              "        const charts = await google.colab.kernel.invokeFunction(\n",
              "            'suggestCharts', [key], {});\n",
              "      } catch (error) {\n",
              "        console.error('Error during call to suggestCharts:', error);\n",
              "      }\n",
              "      quickchartButtonEl.classList.remove('colab-df-spinner');\n",
              "      quickchartButtonEl.classList.add('colab-df-quickchart-complete');\n",
              "    }\n",
              "    (() => {\n",
              "      let quickchartButtonEl =\n",
              "        document.querySelector('#df-43d2deee-1b4d-4900-9ce8-743ac419b9d1 button');\n",
              "      quickchartButtonEl.style.display =\n",
              "        google.colab.kernel.accessAllowed ? 'block' : 'none';\n",
              "    })();\n",
              "  </script>\n",
              "</div>\n",
              "    </div>\n",
              "  </div>\n"
            ],
            "text/plain": [
              "           name  context_precision  faithfulness  answer_relevancy  \\\n",
              "2  ensemble_rag           0.885833          0.70          0.891845   \n",
              "0     basic_rag           0.500000          0.40          0.953475   \n",
              "1       pdr_rag           0.697222          0.35          0.943909   \n",
              "\n",
              "   context_recall  context_relevancy  answer_correctness  answer_similarity  \n",
              "2            0.98           0.019158            0.775000                1.0  \n",
              "0            1.00           0.055904            0.616667                1.0  \n",
              "1            1.00           0.013386            0.600000                1.0  "
            ]
          },
          "execution_count": 90,
          "metadata": {},
          "output_type": "execute_result"
        }
      ],
      "source": [
        "results_df.sort_values(\"answer_correctness\", ascending=False)"
      ]
    },
    {
      "cell_type": "markdown",
      "metadata": {
        "id": "YPocfrNFiYWi"
      },
      "source": [
        "### ❓QUESTION❓\n",
        "\n",
        "What conclusions can you draw about the above results?\n",
        "\n",
        "Describe in your own words what the metrics are expressing."
      ]
    },
    {
      "cell_type": "code",
      "execution_count": null,
      "metadata": {
        "id": "fbhz-vD4JPtN"
      },
      "outputs": [],
      "source": [
        "retrieval_augmented_qa_chain = (\n",
        "    RunnableParallel({\n",
        "        'context': itemgetter('question') | base_retriever,\n",
        "        'question': RunnablePassthrough()\n",
        "    }) | {\n",
        "        'response': prompt | primary_qa_llm | parser,\n",
        "        'context': itemgetter('context')\n",
        "    }\n",
        ")"
      ]
    }
  ],
  "metadata": {
    "colab": {
      "provenance": []
    },
    "kernelspec": {
      "display_name": "Python 3",
      "name": "python3"
    },
    "language_info": {
      "codemirror_mode": {
        "name": "ipython",
        "version": 3
      },
      "file_extension": ".py",
      "mimetype": "text/x-python",
      "name": "python",
      "nbconvert_exporter": "python",
      "pygments_lexer": "ipython3",
      "version": "3.10.14"
    },
    "widgets": {
      "application/vnd.jupyter.widget-state+json": {
        "0fff4a6672c848a38945e19101c46168": {
          "model_module": "@jupyter-widgets/base",
          "model_module_version": "1.2.0",
          "model_name": "LayoutModel",
          "state": {
            "_model_module": "@jupyter-widgets/base",
            "_model_module_version": "1.2.0",
            "_model_name": "LayoutModel",
            "_view_count": null,
            "_view_module": "@jupyter-widgets/base",
            "_view_module_version": "1.2.0",
            "_view_name": "LayoutView",
            "align_content": null,
            "align_items": null,
            "align_self": null,
            "border": null,
            "bottom": null,
            "display": null,
            "flex": null,
            "flex_flow": null,
            "grid_area": null,
            "grid_auto_columns": null,
            "grid_auto_flow": null,
            "grid_auto_rows": null,
            "grid_column": null,
            "grid_gap": null,
            "grid_row": null,
            "grid_template_areas": null,
            "grid_template_columns": null,
            "grid_template_rows": null,
            "height": null,
            "justify_content": null,
            "justify_items": null,
            "left": null,
            "margin": null,
            "max_height": null,
            "max_width": null,
            "min_height": null,
            "min_width": null,
            "object_fit": null,
            "object_position": null,
            "order": null,
            "overflow": null,
            "overflow_x": null,
            "overflow_y": null,
            "padding": null,
            "right": null,
            "top": null,
            "visibility": null,
            "width": null
          }
        },
        "1d17b8847ab34a1d8fc79430e8b64a12": {
          "model_module": "@jupyter-widgets/controls",
          "model_module_version": "1.5.0",
          "model_name": "HTMLModel",
          "state": {
            "_dom_classes": [],
            "_model_module": "@jupyter-widgets/controls",
            "_model_module_version": "1.5.0",
            "_model_name": "HTMLModel",
            "_view_count": null,
            "_view_module": "@jupyter-widgets/controls",
            "_view_module_version": "1.5.0",
            "_view_name": "HTMLView",
            "description": "",
            "description_tooltip": null,
            "layout": "IPY_MODEL_e5c8b5933c754a1192456f43682276c5",
            "placeholder": "​",
            "style": "IPY_MODEL_84abf77081a04bb686f794b49e04761d",
            "value": " 1/1 [00:00&lt;00:00, 35.79ba/s]"
          }
        },
        "207785da1f404d6ea0e8c63655a7aa51": {
          "model_module": "@jupyter-widgets/base",
          "model_module_version": "1.2.0",
          "model_name": "LayoutModel",
          "state": {
            "_model_module": "@jupyter-widgets/base",
            "_model_module_version": "1.2.0",
            "_model_name": "LayoutModel",
            "_view_count": null,
            "_view_module": "@jupyter-widgets/base",
            "_view_module_version": "1.2.0",
            "_view_name": "LayoutView",
            "align_content": null,
            "align_items": null,
            "align_self": null,
            "border": null,
            "bottom": null,
            "display": null,
            "flex": null,
            "flex_flow": null,
            "grid_area": null,
            "grid_auto_columns": null,
            "grid_auto_flow": null,
            "grid_auto_rows": null,
            "grid_column": null,
            "grid_gap": null,
            "grid_row": null,
            "grid_template_areas": null,
            "grid_template_columns": null,
            "grid_template_rows": null,
            "height": null,
            "justify_content": null,
            "justify_items": null,
            "left": null,
            "margin": null,
            "max_height": null,
            "max_width": null,
            "min_height": null,
            "min_width": null,
            "object_fit": null,
            "object_position": null,
            "order": null,
            "overflow": null,
            "overflow_x": null,
            "overflow_y": null,
            "padding": null,
            "right": null,
            "top": null,
            "visibility": null,
            "width": null
          }
        },
        "22fc25617c664e4aa02b7457832c1bef": {
          "model_module": "@jupyter-widgets/base",
          "model_module_version": "1.2.0",
          "model_name": "LayoutModel",
          "state": {
            "_model_module": "@jupyter-widgets/base",
            "_model_module_version": "1.2.0",
            "_model_name": "LayoutModel",
            "_view_count": null,
            "_view_module": "@jupyter-widgets/base",
            "_view_module_version": "1.2.0",
            "_view_name": "LayoutView",
            "align_content": null,
            "align_items": null,
            "align_self": null,
            "border": null,
            "bottom": null,
            "display": null,
            "flex": null,
            "flex_flow": null,
            "grid_area": null,
            "grid_auto_columns": null,
            "grid_auto_flow": null,
            "grid_auto_rows": null,
            "grid_column": null,
            "grid_gap": null,
            "grid_row": null,
            "grid_template_areas": null,
            "grid_template_columns": null,
            "grid_template_rows": null,
            "height": null,
            "justify_content": null,
            "justify_items": null,
            "left": null,
            "margin": null,
            "max_height": null,
            "max_width": null,
            "min_height": null,
            "min_width": null,
            "object_fit": null,
            "object_position": null,
            "order": null,
            "overflow": null,
            "overflow_x": null,
            "overflow_y": null,
            "padding": null,
            "right": null,
            "top": null,
            "visibility": null,
            "width": null
          }
        },
        "256a0dbb2f104d928e181d2a882a9867": {
          "model_module": "@jupyter-widgets/controls",
          "model_module_version": "1.5.0",
          "model_name": "ProgressStyleModel",
          "state": {
            "_model_module": "@jupyter-widgets/controls",
            "_model_module_version": "1.5.0",
            "_model_name": "ProgressStyleModel",
            "_view_count": null,
            "_view_module": "@jupyter-widgets/base",
            "_view_module_version": "1.2.0",
            "_view_name": "StyleView",
            "bar_color": null,
            "description_width": ""
          }
        },
        "2add9d30edd84152bb6d7bfa4ed2d910": {
          "model_module": "@jupyter-widgets/base",
          "model_module_version": "1.2.0",
          "model_name": "LayoutModel",
          "state": {
            "_model_module": "@jupyter-widgets/base",
            "_model_module_version": "1.2.0",
            "_model_name": "LayoutModel",
            "_view_count": null,
            "_view_module": "@jupyter-widgets/base",
            "_view_module_version": "1.2.0",
            "_view_name": "LayoutView",
            "align_content": null,
            "align_items": null,
            "align_self": null,
            "border": null,
            "bottom": null,
            "display": null,
            "flex": null,
            "flex_flow": null,
            "grid_area": null,
            "grid_auto_columns": null,
            "grid_auto_flow": null,
            "grid_auto_rows": null,
            "grid_column": null,
            "grid_gap": null,
            "grid_row": null,
            "grid_template_areas": null,
            "grid_template_columns": null,
            "grid_template_rows": null,
            "height": null,
            "justify_content": null,
            "justify_items": null,
            "left": null,
            "margin": null,
            "max_height": null,
            "max_width": null,
            "min_height": null,
            "min_width": null,
            "object_fit": null,
            "object_position": null,
            "order": null,
            "overflow": null,
            "overflow_x": null,
            "overflow_y": null,
            "padding": null,
            "right": null,
            "top": null,
            "visibility": null,
            "width": null
          }
        },
        "31390facfbeb455fa83067fc23d30718": {
          "model_module": "@jupyter-widgets/base",
          "model_module_version": "1.2.0",
          "model_name": "LayoutModel",
          "state": {
            "_model_module": "@jupyter-widgets/base",
            "_model_module_version": "1.2.0",
            "_model_name": "LayoutModel",
            "_view_count": null,
            "_view_module": "@jupyter-widgets/base",
            "_view_module_version": "1.2.0",
            "_view_name": "LayoutView",
            "align_content": null,
            "align_items": null,
            "align_self": null,
            "border": null,
            "bottom": null,
            "display": null,
            "flex": null,
            "flex_flow": null,
            "grid_area": null,
            "grid_auto_columns": null,
            "grid_auto_flow": null,
            "grid_auto_rows": null,
            "grid_column": null,
            "grid_gap": null,
            "grid_row": null,
            "grid_template_areas": null,
            "grid_template_columns": null,
            "grid_template_rows": null,
            "height": null,
            "justify_content": null,
            "justify_items": null,
            "left": null,
            "margin": null,
            "max_height": null,
            "max_width": null,
            "min_height": null,
            "min_width": null,
            "object_fit": null,
            "object_position": null,
            "order": null,
            "overflow": null,
            "overflow_x": null,
            "overflow_y": null,
            "padding": null,
            "right": null,
            "top": null,
            "visibility": null,
            "width": null
          }
        },
        "5367cbe7ca4d43b089ff0d5d7cd17d3c": {
          "model_module": "@jupyter-widgets/controls",
          "model_module_version": "1.5.0",
          "model_name": "HTMLModel",
          "state": {
            "_dom_classes": [],
            "_model_module": "@jupyter-widgets/controls",
            "_model_module_version": "1.5.0",
            "_model_name": "HTMLModel",
            "_view_count": null,
            "_view_module": "@jupyter-widgets/controls",
            "_view_module_version": "1.5.0",
            "_view_name": "HTMLView",
            "description": "",
            "description_tooltip": null,
            "layout": "IPY_MODEL_b53ebcf672a244978391cae559db5bf2",
            "placeholder": "​",
            "style": "IPY_MODEL_f2de6a2c1f4b4a2fa5196028c0da0754",
            "value": " 1/1 [00:00&lt;00:00, 18.79ba/s]"
          }
        },
        "56098a347ea94ea3b10bd8d2ec0d4288": {
          "model_module": "@jupyter-widgets/base",
          "model_module_version": "1.2.0",
          "model_name": "LayoutModel",
          "state": {
            "_model_module": "@jupyter-widgets/base",
            "_model_module_version": "1.2.0",
            "_model_name": "LayoutModel",
            "_view_count": null,
            "_view_module": "@jupyter-widgets/base",
            "_view_module_version": "1.2.0",
            "_view_name": "LayoutView",
            "align_content": null,
            "align_items": null,
            "align_self": null,
            "border": null,
            "bottom": null,
            "display": null,
            "flex": null,
            "flex_flow": null,
            "grid_area": null,
            "grid_auto_columns": null,
            "grid_auto_flow": null,
            "grid_auto_rows": null,
            "grid_column": null,
            "grid_gap": null,
            "grid_row": null,
            "grid_template_areas": null,
            "grid_template_columns": null,
            "grid_template_rows": null,
            "height": null,
            "justify_content": null,
            "justify_items": null,
            "left": null,
            "margin": null,
            "max_height": null,
            "max_width": null,
            "min_height": null,
            "min_width": null,
            "object_fit": null,
            "object_position": null,
            "order": null,
            "overflow": null,
            "overflow_x": null,
            "overflow_y": null,
            "padding": null,
            "right": null,
            "top": null,
            "visibility": null,
            "width": null
          }
        },
        "567176b50d074a1c9d384a8df8c3ff4c": {
          "model_module": "@jupyter-widgets/controls",
          "model_module_version": "1.5.0",
          "model_name": "HTMLModel",
          "state": {
            "_dom_classes": [],
            "_model_module": "@jupyter-widgets/controls",
            "_model_module_version": "1.5.0",
            "_model_name": "HTMLModel",
            "_view_count": null,
            "_view_module": "@jupyter-widgets/controls",
            "_view_module_version": "1.5.0",
            "_view_name": "HTMLView",
            "description": "",
            "description_tooltip": null,
            "layout": "IPY_MODEL_f34ffd11b98045b9bae326dd48a54896",
            "placeholder": "​",
            "style": "IPY_MODEL_e3e19fc9963c4bf39293bda7c2030d5a",
            "value": "Creating CSV from Arrow format: 100%"
          }
        },
        "632135599e39470aac1a3bb3d3de0ca4": {
          "model_module": "@jupyter-widgets/controls",
          "model_module_version": "1.5.0",
          "model_name": "HBoxModel",
          "state": {
            "_dom_classes": [],
            "_model_module": "@jupyter-widgets/controls",
            "_model_module_version": "1.5.0",
            "_model_name": "HBoxModel",
            "_view_count": null,
            "_view_module": "@jupyter-widgets/controls",
            "_view_module_version": "1.5.0",
            "_view_name": "HBoxView",
            "box_style": "",
            "children": [
              "IPY_MODEL_567176b50d074a1c9d384a8df8c3ff4c",
              "IPY_MODEL_6bfa39f2c84e4f08b5ffb9a416398824",
              "IPY_MODEL_911b40169865413b98643789150e5495"
            ],
            "layout": "IPY_MODEL_2add9d30edd84152bb6d7bfa4ed2d910"
          }
        },
        "65f75f3d72cd415faffb32999893738d": {
          "model_module": "@jupyter-widgets/controls",
          "model_module_version": "1.5.0",
          "model_name": "FloatProgressModel",
          "state": {
            "_dom_classes": [],
            "_model_module": "@jupyter-widgets/controls",
            "_model_module_version": "1.5.0",
            "_model_name": "FloatProgressModel",
            "_view_count": null,
            "_view_module": "@jupyter-widgets/controls",
            "_view_module_version": "1.5.0",
            "_view_name": "ProgressView",
            "bar_style": "success",
            "description": "",
            "description_tooltip": null,
            "layout": "IPY_MODEL_0fff4a6672c848a38945e19101c46168",
            "max": 1,
            "min": 0,
            "orientation": "horizontal",
            "style": "IPY_MODEL_de662cb67d054f08a15d191923d40369",
            "value": 1
          }
        },
        "68790cfe4ea14fc4a63275f3e99c468f": {
          "model_module": "@jupyter-widgets/base",
          "model_module_version": "1.2.0",
          "model_name": "LayoutModel",
          "state": {
            "_model_module": "@jupyter-widgets/base",
            "_model_module_version": "1.2.0",
            "_model_name": "LayoutModel",
            "_view_count": null,
            "_view_module": "@jupyter-widgets/base",
            "_view_module_version": "1.2.0",
            "_view_name": "LayoutView",
            "align_content": null,
            "align_items": null,
            "align_self": null,
            "border": null,
            "bottom": null,
            "display": null,
            "flex": null,
            "flex_flow": null,
            "grid_area": null,
            "grid_auto_columns": null,
            "grid_auto_flow": null,
            "grid_auto_rows": null,
            "grid_column": null,
            "grid_gap": null,
            "grid_row": null,
            "grid_template_areas": null,
            "grid_template_columns": null,
            "grid_template_rows": null,
            "height": null,
            "justify_content": null,
            "justify_items": null,
            "left": null,
            "margin": null,
            "max_height": null,
            "max_width": null,
            "min_height": null,
            "min_width": null,
            "object_fit": null,
            "object_position": null,
            "order": null,
            "overflow": null,
            "overflow_x": null,
            "overflow_y": null,
            "padding": null,
            "right": null,
            "top": null,
            "visibility": null,
            "width": null
          }
        },
        "6bfa39f2c84e4f08b5ffb9a416398824": {
          "model_module": "@jupyter-widgets/controls",
          "model_module_version": "1.5.0",
          "model_name": "FloatProgressModel",
          "state": {
            "_dom_classes": [],
            "_model_module": "@jupyter-widgets/controls",
            "_model_module_version": "1.5.0",
            "_model_name": "FloatProgressModel",
            "_view_count": null,
            "_view_module": "@jupyter-widgets/controls",
            "_view_module_version": "1.5.0",
            "_view_name": "ProgressView",
            "bar_style": "success",
            "description": "",
            "description_tooltip": null,
            "layout": "IPY_MODEL_c15c27b0523a429e9d77f439d47ada90",
            "max": 1,
            "min": 0,
            "orientation": "horizontal",
            "style": "IPY_MODEL_256a0dbb2f104d928e181d2a882a9867",
            "value": 1
          }
        },
        "6e7fb9a1d1454fcd9bcf5b5f748fb975": {
          "model_module": "@jupyter-widgets/base",
          "model_module_version": "1.2.0",
          "model_name": "LayoutModel",
          "state": {
            "_model_module": "@jupyter-widgets/base",
            "_model_module_version": "1.2.0",
            "_model_name": "LayoutModel",
            "_view_count": null,
            "_view_module": "@jupyter-widgets/base",
            "_view_module_version": "1.2.0",
            "_view_name": "LayoutView",
            "align_content": null,
            "align_items": null,
            "align_self": null,
            "border": null,
            "bottom": null,
            "display": null,
            "flex": null,
            "flex_flow": null,
            "grid_area": null,
            "grid_auto_columns": null,
            "grid_auto_flow": null,
            "grid_auto_rows": null,
            "grid_column": null,
            "grid_gap": null,
            "grid_row": null,
            "grid_template_areas": null,
            "grid_template_columns": null,
            "grid_template_rows": null,
            "height": null,
            "justify_content": null,
            "justify_items": null,
            "left": null,
            "margin": null,
            "max_height": null,
            "max_width": null,
            "min_height": null,
            "min_width": null,
            "object_fit": null,
            "object_position": null,
            "order": null,
            "overflow": null,
            "overflow_x": null,
            "overflow_y": null,
            "padding": null,
            "right": null,
            "top": null,
            "visibility": null,
            "width": null
          }
        },
        "71237d176b2c4138a5e0346d10482257": {
          "model_module": "@jupyter-widgets/controls",
          "model_module_version": "1.5.0",
          "model_name": "DescriptionStyleModel",
          "state": {
            "_model_module": "@jupyter-widgets/controls",
            "_model_module_version": "1.5.0",
            "_model_name": "DescriptionStyleModel",
            "_view_count": null,
            "_view_module": "@jupyter-widgets/base",
            "_view_module_version": "1.2.0",
            "_view_name": "StyleView",
            "description_width": ""
          }
        },
        "761e3c6035bf49429b3035145451d2df": {
          "model_module": "@jupyter-widgets/controls",
          "model_module_version": "1.5.0",
          "model_name": "HTMLModel",
          "state": {
            "_dom_classes": [],
            "_model_module": "@jupyter-widgets/controls",
            "_model_module_version": "1.5.0",
            "_model_name": "HTMLModel",
            "_view_count": null,
            "_view_module": "@jupyter-widgets/controls",
            "_view_module_version": "1.5.0",
            "_view_name": "HTMLView",
            "description": "",
            "description_tooltip": null,
            "layout": "IPY_MODEL_207785da1f404d6ea0e8c63655a7aa51",
            "placeholder": "​",
            "style": "IPY_MODEL_71237d176b2c4138a5e0346d10482257",
            "value": "Creating CSV from Arrow format: 100%"
          }
        },
        "7940d9e3f5fa4592b58dec3fdb55595a": {
          "model_module": "@jupyter-widgets/controls",
          "model_module_version": "1.5.0",
          "model_name": "DescriptionStyleModel",
          "state": {
            "_model_module": "@jupyter-widgets/controls",
            "_model_module_version": "1.5.0",
            "_model_name": "DescriptionStyleModel",
            "_view_count": null,
            "_view_module": "@jupyter-widgets/base",
            "_view_module_version": "1.2.0",
            "_view_name": "StyleView",
            "description_width": ""
          }
        },
        "84abf77081a04bb686f794b49e04761d": {
          "model_module": "@jupyter-widgets/controls",
          "model_module_version": "1.5.0",
          "model_name": "DescriptionStyleModel",
          "state": {
            "_model_module": "@jupyter-widgets/controls",
            "_model_module_version": "1.5.0",
            "_model_name": "DescriptionStyleModel",
            "_view_count": null,
            "_view_module": "@jupyter-widgets/base",
            "_view_module_version": "1.2.0",
            "_view_name": "StyleView",
            "description_width": ""
          }
        },
        "86761a36bdb04fed9f1dae6e74da54ce": {
          "model_module": "@jupyter-widgets/controls",
          "model_module_version": "1.5.0",
          "model_name": "HBoxModel",
          "state": {
            "_dom_classes": [],
            "_model_module": "@jupyter-widgets/controls",
            "_model_module_version": "1.5.0",
            "_model_name": "HBoxModel",
            "_view_count": null,
            "_view_module": "@jupyter-widgets/controls",
            "_view_module_version": "1.5.0",
            "_view_name": "HBoxView",
            "box_style": "",
            "children": [
              "IPY_MODEL_e079c0eb3d9c4ae3a40491f059a864f7",
              "IPY_MODEL_d4bde97f3895450782030cad7808ea59",
              "IPY_MODEL_1d17b8847ab34a1d8fc79430e8b64a12"
            ],
            "layout": "IPY_MODEL_fb953d8d116e4cc389dbc23a0055873f"
          }
        },
        "911b40169865413b98643789150e5495": {
          "model_module": "@jupyter-widgets/controls",
          "model_module_version": "1.5.0",
          "model_name": "HTMLModel",
          "state": {
            "_dom_classes": [],
            "_model_module": "@jupyter-widgets/controls",
            "_model_module_version": "1.5.0",
            "_model_name": "HTMLModel",
            "_view_count": null,
            "_view_module": "@jupyter-widgets/controls",
            "_view_module_version": "1.5.0",
            "_view_name": "HTMLView",
            "description": "",
            "description_tooltip": null,
            "layout": "IPY_MODEL_68790cfe4ea14fc4a63275f3e99c468f",
            "placeholder": "​",
            "style": "IPY_MODEL_e7df092ac205443e8baa3646ff1eae5b",
            "value": " 1/1 [00:00&lt;00:00, 33.41ba/s]"
          }
        },
        "95d92c5c74e845779337eb727c2bbfc0": {
          "model_module": "@jupyter-widgets/controls",
          "model_module_version": "1.5.0",
          "model_name": "HTMLModel",
          "state": {
            "_dom_classes": [],
            "_model_module": "@jupyter-widgets/controls",
            "_model_module_version": "1.5.0",
            "_model_name": "HTMLModel",
            "_view_count": null,
            "_view_module": "@jupyter-widgets/controls",
            "_view_module_version": "1.5.0",
            "_view_name": "HTMLView",
            "description": "",
            "description_tooltip": null,
            "layout": "IPY_MODEL_56098a347ea94ea3b10bd8d2ec0d4288",
            "placeholder": "​",
            "style": "IPY_MODEL_7940d9e3f5fa4592b58dec3fdb55595a",
            "value": " 1/1 [00:00&lt;00:00, 33.86ba/s]"
          }
        },
        "b4a71cf676584200b46922fb976d1d50": {
          "model_module": "@jupyter-widgets/controls",
          "model_module_version": "1.5.0",
          "model_name": "HTMLModel",
          "state": {
            "_dom_classes": [],
            "_model_module": "@jupyter-widgets/controls",
            "_model_module_version": "1.5.0",
            "_model_name": "HTMLModel",
            "_view_count": null,
            "_view_module": "@jupyter-widgets/controls",
            "_view_module_version": "1.5.0",
            "_view_name": "HTMLView",
            "description": "",
            "description_tooltip": null,
            "layout": "IPY_MODEL_22fc25617c664e4aa02b7457832c1bef",
            "placeholder": "​",
            "style": "IPY_MODEL_b556054df18d47aa8cb58ac482ca31bb",
            "value": "Creating CSV from Arrow format: 100%"
          }
        },
        "b53ebcf672a244978391cae559db5bf2": {
          "model_module": "@jupyter-widgets/base",
          "model_module_version": "1.2.0",
          "model_name": "LayoutModel",
          "state": {
            "_model_module": "@jupyter-widgets/base",
            "_model_module_version": "1.2.0",
            "_model_name": "LayoutModel",
            "_view_count": null,
            "_view_module": "@jupyter-widgets/base",
            "_view_module_version": "1.2.0",
            "_view_name": "LayoutView",
            "align_content": null,
            "align_items": null,
            "align_self": null,
            "border": null,
            "bottom": null,
            "display": null,
            "flex": null,
            "flex_flow": null,
            "grid_area": null,
            "grid_auto_columns": null,
            "grid_auto_flow": null,
            "grid_auto_rows": null,
            "grid_column": null,
            "grid_gap": null,
            "grid_row": null,
            "grid_template_areas": null,
            "grid_template_columns": null,
            "grid_template_rows": null,
            "height": null,
            "justify_content": null,
            "justify_items": null,
            "left": null,
            "margin": null,
            "max_height": null,
            "max_width": null,
            "min_height": null,
            "min_width": null,
            "object_fit": null,
            "object_position": null,
            "order": null,
            "overflow": null,
            "overflow_x": null,
            "overflow_y": null,
            "padding": null,
            "right": null,
            "top": null,
            "visibility": null,
            "width": null
          }
        },
        "b556054df18d47aa8cb58ac482ca31bb": {
          "model_module": "@jupyter-widgets/controls",
          "model_module_version": "1.5.0",
          "model_name": "DescriptionStyleModel",
          "state": {
            "_model_module": "@jupyter-widgets/controls",
            "_model_module_version": "1.5.0",
            "_model_name": "DescriptionStyleModel",
            "_view_count": null,
            "_view_module": "@jupyter-widgets/base",
            "_view_module_version": "1.2.0",
            "_view_name": "StyleView",
            "description_width": ""
          }
        },
        "bf27f78edb15477492fb2d5dd8dc5137": {
          "model_module": "@jupyter-widgets/base",
          "model_module_version": "1.2.0",
          "model_name": "LayoutModel",
          "state": {
            "_model_module": "@jupyter-widgets/base",
            "_model_module_version": "1.2.0",
            "_model_name": "LayoutModel",
            "_view_count": null,
            "_view_module": "@jupyter-widgets/base",
            "_view_module_version": "1.2.0",
            "_view_name": "LayoutView",
            "align_content": null,
            "align_items": null,
            "align_self": null,
            "border": null,
            "bottom": null,
            "display": null,
            "flex": null,
            "flex_flow": null,
            "grid_area": null,
            "grid_auto_columns": null,
            "grid_auto_flow": null,
            "grid_auto_rows": null,
            "grid_column": null,
            "grid_gap": null,
            "grid_row": null,
            "grid_template_areas": null,
            "grid_template_columns": null,
            "grid_template_rows": null,
            "height": null,
            "justify_content": null,
            "justify_items": null,
            "left": null,
            "margin": null,
            "max_height": null,
            "max_width": null,
            "min_height": null,
            "min_width": null,
            "object_fit": null,
            "object_position": null,
            "order": null,
            "overflow": null,
            "overflow_x": null,
            "overflow_y": null,
            "padding": null,
            "right": null,
            "top": null,
            "visibility": null,
            "width": null
          }
        },
        "bf7f045bdbe24360ad2aa2f4c8f02e79": {
          "model_module": "@jupyter-widgets/controls",
          "model_module_version": "1.5.0",
          "model_name": "HBoxModel",
          "state": {
            "_dom_classes": [],
            "_model_module": "@jupyter-widgets/controls",
            "_model_module_version": "1.5.0",
            "_model_name": "HBoxModel",
            "_view_count": null,
            "_view_module": "@jupyter-widgets/controls",
            "_view_module_version": "1.5.0",
            "_view_name": "HBoxView",
            "box_style": "",
            "children": [
              "IPY_MODEL_761e3c6035bf49429b3035145451d2df",
              "IPY_MODEL_ffb7c97e7af648aaa13a43427154140e",
              "IPY_MODEL_95d92c5c74e845779337eb727c2bbfc0"
            ],
            "layout": "IPY_MODEL_6e7fb9a1d1454fcd9bcf5b5f748fb975"
          }
        },
        "c077837b8b044c2fb14dcd8fbc44a37b": {
          "model_module": "@jupyter-widgets/controls",
          "model_module_version": "1.5.0",
          "model_name": "ProgressStyleModel",
          "state": {
            "_model_module": "@jupyter-widgets/controls",
            "_model_module_version": "1.5.0",
            "_model_name": "ProgressStyleModel",
            "_view_count": null,
            "_view_module": "@jupyter-widgets/base",
            "_view_module_version": "1.2.0",
            "_view_name": "StyleView",
            "bar_color": null,
            "description_width": ""
          }
        },
        "c15c27b0523a429e9d77f439d47ada90": {
          "model_module": "@jupyter-widgets/base",
          "model_module_version": "1.2.0",
          "model_name": "LayoutModel",
          "state": {
            "_model_module": "@jupyter-widgets/base",
            "_model_module_version": "1.2.0",
            "_model_name": "LayoutModel",
            "_view_count": null,
            "_view_module": "@jupyter-widgets/base",
            "_view_module_version": "1.2.0",
            "_view_name": "LayoutView",
            "align_content": null,
            "align_items": null,
            "align_self": null,
            "border": null,
            "bottom": null,
            "display": null,
            "flex": null,
            "flex_flow": null,
            "grid_area": null,
            "grid_auto_columns": null,
            "grid_auto_flow": null,
            "grid_auto_rows": null,
            "grid_column": null,
            "grid_gap": null,
            "grid_row": null,
            "grid_template_areas": null,
            "grid_template_columns": null,
            "grid_template_rows": null,
            "height": null,
            "justify_content": null,
            "justify_items": null,
            "left": null,
            "margin": null,
            "max_height": null,
            "max_width": null,
            "min_height": null,
            "min_width": null,
            "object_fit": null,
            "object_position": null,
            "order": null,
            "overflow": null,
            "overflow_x": null,
            "overflow_y": null,
            "padding": null,
            "right": null,
            "top": null,
            "visibility": null,
            "width": null
          }
        },
        "c4bc64d47f2e4a239cf7156e7812887d": {
          "model_module": "@jupyter-widgets/controls",
          "model_module_version": "1.5.0",
          "model_name": "HBoxModel",
          "state": {
            "_dom_classes": [],
            "_model_module": "@jupyter-widgets/controls",
            "_model_module_version": "1.5.0",
            "_model_name": "HBoxModel",
            "_view_count": null,
            "_view_module": "@jupyter-widgets/controls",
            "_view_module_version": "1.5.0",
            "_view_name": "HBoxView",
            "box_style": "",
            "children": [
              "IPY_MODEL_b4a71cf676584200b46922fb976d1d50",
              "IPY_MODEL_65f75f3d72cd415faffb32999893738d",
              "IPY_MODEL_5367cbe7ca4d43b089ff0d5d7cd17d3c"
            ],
            "layout": "IPY_MODEL_31390facfbeb455fa83067fc23d30718"
          }
        },
        "c9f479f81119450bb451d5830361467c": {
          "model_module": "@jupyter-widgets/controls",
          "model_module_version": "1.5.0",
          "model_name": "ProgressStyleModel",
          "state": {
            "_model_module": "@jupyter-widgets/controls",
            "_model_module_version": "1.5.0",
            "_model_name": "ProgressStyleModel",
            "_view_count": null,
            "_view_module": "@jupyter-widgets/base",
            "_view_module_version": "1.2.0",
            "_view_name": "StyleView",
            "bar_color": null,
            "description_width": ""
          }
        },
        "d4bde97f3895450782030cad7808ea59": {
          "model_module": "@jupyter-widgets/controls",
          "model_module_version": "1.5.0",
          "model_name": "FloatProgressModel",
          "state": {
            "_dom_classes": [],
            "_model_module": "@jupyter-widgets/controls",
            "_model_module_version": "1.5.0",
            "_model_name": "FloatProgressModel",
            "_view_count": null,
            "_view_module": "@jupyter-widgets/controls",
            "_view_module_version": "1.5.0",
            "_view_name": "ProgressView",
            "bar_style": "success",
            "description": "",
            "description_tooltip": null,
            "layout": "IPY_MODEL_e556e254882340168833ecf1a7153a90",
            "max": 1,
            "min": 0,
            "orientation": "horizontal",
            "style": "IPY_MODEL_c077837b8b044c2fb14dcd8fbc44a37b",
            "value": 1
          }
        },
        "de662cb67d054f08a15d191923d40369": {
          "model_module": "@jupyter-widgets/controls",
          "model_module_version": "1.5.0",
          "model_name": "ProgressStyleModel",
          "state": {
            "_model_module": "@jupyter-widgets/controls",
            "_model_module_version": "1.5.0",
            "_model_name": "ProgressStyleModel",
            "_view_count": null,
            "_view_module": "@jupyter-widgets/base",
            "_view_module_version": "1.2.0",
            "_view_name": "StyleView",
            "bar_color": null,
            "description_width": ""
          }
        },
        "e079c0eb3d9c4ae3a40491f059a864f7": {
          "model_module": "@jupyter-widgets/controls",
          "model_module_version": "1.5.0",
          "model_name": "HTMLModel",
          "state": {
            "_dom_classes": [],
            "_model_module": "@jupyter-widgets/controls",
            "_model_module_version": "1.5.0",
            "_model_name": "HTMLModel",
            "_view_count": null,
            "_view_module": "@jupyter-widgets/controls",
            "_view_module_version": "1.5.0",
            "_view_name": "HTMLView",
            "description": "",
            "description_tooltip": null,
            "layout": "IPY_MODEL_bf27f78edb15477492fb2d5dd8dc5137",
            "placeholder": "​",
            "style": "IPY_MODEL_ee96a569b8a54944bcac1b1bc164e53e",
            "value": "Creating CSV from Arrow format: 100%"
          }
        },
        "e3e19fc9963c4bf39293bda7c2030d5a": {
          "model_module": "@jupyter-widgets/controls",
          "model_module_version": "1.5.0",
          "model_name": "DescriptionStyleModel",
          "state": {
            "_model_module": "@jupyter-widgets/controls",
            "_model_module_version": "1.5.0",
            "_model_name": "DescriptionStyleModel",
            "_view_count": null,
            "_view_module": "@jupyter-widgets/base",
            "_view_module_version": "1.2.0",
            "_view_name": "StyleView",
            "description_width": ""
          }
        },
        "e556e254882340168833ecf1a7153a90": {
          "model_module": "@jupyter-widgets/base",
          "model_module_version": "1.2.0",
          "model_name": "LayoutModel",
          "state": {
            "_model_module": "@jupyter-widgets/base",
            "_model_module_version": "1.2.0",
            "_model_name": "LayoutModel",
            "_view_count": null,
            "_view_module": "@jupyter-widgets/base",
            "_view_module_version": "1.2.0",
            "_view_name": "LayoutView",
            "align_content": null,
            "align_items": null,
            "align_self": null,
            "border": null,
            "bottom": null,
            "display": null,
            "flex": null,
            "flex_flow": null,
            "grid_area": null,
            "grid_auto_columns": null,
            "grid_auto_flow": null,
            "grid_auto_rows": null,
            "grid_column": null,
            "grid_gap": null,
            "grid_row": null,
            "grid_template_areas": null,
            "grid_template_columns": null,
            "grid_template_rows": null,
            "height": null,
            "justify_content": null,
            "justify_items": null,
            "left": null,
            "margin": null,
            "max_height": null,
            "max_width": null,
            "min_height": null,
            "min_width": null,
            "object_fit": null,
            "object_position": null,
            "order": null,
            "overflow": null,
            "overflow_x": null,
            "overflow_y": null,
            "padding": null,
            "right": null,
            "top": null,
            "visibility": null,
            "width": null
          }
        },
        "e5c8b5933c754a1192456f43682276c5": {
          "model_module": "@jupyter-widgets/base",
          "model_module_version": "1.2.0",
          "model_name": "LayoutModel",
          "state": {
            "_model_module": "@jupyter-widgets/base",
            "_model_module_version": "1.2.0",
            "_model_name": "LayoutModel",
            "_view_count": null,
            "_view_module": "@jupyter-widgets/base",
            "_view_module_version": "1.2.0",
            "_view_name": "LayoutView",
            "align_content": null,
            "align_items": null,
            "align_self": null,
            "border": null,
            "bottom": null,
            "display": null,
            "flex": null,
            "flex_flow": null,
            "grid_area": null,
            "grid_auto_columns": null,
            "grid_auto_flow": null,
            "grid_auto_rows": null,
            "grid_column": null,
            "grid_gap": null,
            "grid_row": null,
            "grid_template_areas": null,
            "grid_template_columns": null,
            "grid_template_rows": null,
            "height": null,
            "justify_content": null,
            "justify_items": null,
            "left": null,
            "margin": null,
            "max_height": null,
            "max_width": null,
            "min_height": null,
            "min_width": null,
            "object_fit": null,
            "object_position": null,
            "order": null,
            "overflow": null,
            "overflow_x": null,
            "overflow_y": null,
            "padding": null,
            "right": null,
            "top": null,
            "visibility": null,
            "width": null
          }
        },
        "e7df092ac205443e8baa3646ff1eae5b": {
          "model_module": "@jupyter-widgets/controls",
          "model_module_version": "1.5.0",
          "model_name": "DescriptionStyleModel",
          "state": {
            "_model_module": "@jupyter-widgets/controls",
            "_model_module_version": "1.5.0",
            "_model_name": "DescriptionStyleModel",
            "_view_count": null,
            "_view_module": "@jupyter-widgets/base",
            "_view_module_version": "1.2.0",
            "_view_name": "StyleView",
            "description_width": ""
          }
        },
        "ed457547dc154f6bbce4ec970bb09c76": {
          "model_module": "@jupyter-widgets/base",
          "model_module_version": "1.2.0",
          "model_name": "LayoutModel",
          "state": {
            "_model_module": "@jupyter-widgets/base",
            "_model_module_version": "1.2.0",
            "_model_name": "LayoutModel",
            "_view_count": null,
            "_view_module": "@jupyter-widgets/base",
            "_view_module_version": "1.2.0",
            "_view_name": "LayoutView",
            "align_content": null,
            "align_items": null,
            "align_self": null,
            "border": null,
            "bottom": null,
            "display": null,
            "flex": null,
            "flex_flow": null,
            "grid_area": null,
            "grid_auto_columns": null,
            "grid_auto_flow": null,
            "grid_auto_rows": null,
            "grid_column": null,
            "grid_gap": null,
            "grid_row": null,
            "grid_template_areas": null,
            "grid_template_columns": null,
            "grid_template_rows": null,
            "height": null,
            "justify_content": null,
            "justify_items": null,
            "left": null,
            "margin": null,
            "max_height": null,
            "max_width": null,
            "min_height": null,
            "min_width": null,
            "object_fit": null,
            "object_position": null,
            "order": null,
            "overflow": null,
            "overflow_x": null,
            "overflow_y": null,
            "padding": null,
            "right": null,
            "top": null,
            "visibility": null,
            "width": null
          }
        },
        "ee96a569b8a54944bcac1b1bc164e53e": {
          "model_module": "@jupyter-widgets/controls",
          "model_module_version": "1.5.0",
          "model_name": "DescriptionStyleModel",
          "state": {
            "_model_module": "@jupyter-widgets/controls",
            "_model_module_version": "1.5.0",
            "_model_name": "DescriptionStyleModel",
            "_view_count": null,
            "_view_module": "@jupyter-widgets/base",
            "_view_module_version": "1.2.0",
            "_view_name": "StyleView",
            "description_width": ""
          }
        },
        "f2de6a2c1f4b4a2fa5196028c0da0754": {
          "model_module": "@jupyter-widgets/controls",
          "model_module_version": "1.5.0",
          "model_name": "DescriptionStyleModel",
          "state": {
            "_model_module": "@jupyter-widgets/controls",
            "_model_module_version": "1.5.0",
            "_model_name": "DescriptionStyleModel",
            "_view_count": null,
            "_view_module": "@jupyter-widgets/base",
            "_view_module_version": "1.2.0",
            "_view_name": "StyleView",
            "description_width": ""
          }
        },
        "f34ffd11b98045b9bae326dd48a54896": {
          "model_module": "@jupyter-widgets/base",
          "model_module_version": "1.2.0",
          "model_name": "LayoutModel",
          "state": {
            "_model_module": "@jupyter-widgets/base",
            "_model_module_version": "1.2.0",
            "_model_name": "LayoutModel",
            "_view_count": null,
            "_view_module": "@jupyter-widgets/base",
            "_view_module_version": "1.2.0",
            "_view_name": "LayoutView",
            "align_content": null,
            "align_items": null,
            "align_self": null,
            "border": null,
            "bottom": null,
            "display": null,
            "flex": null,
            "flex_flow": null,
            "grid_area": null,
            "grid_auto_columns": null,
            "grid_auto_flow": null,
            "grid_auto_rows": null,
            "grid_column": null,
            "grid_gap": null,
            "grid_row": null,
            "grid_template_areas": null,
            "grid_template_columns": null,
            "grid_template_rows": null,
            "height": null,
            "justify_content": null,
            "justify_items": null,
            "left": null,
            "margin": null,
            "max_height": null,
            "max_width": null,
            "min_height": null,
            "min_width": null,
            "object_fit": null,
            "object_position": null,
            "order": null,
            "overflow": null,
            "overflow_x": null,
            "overflow_y": null,
            "padding": null,
            "right": null,
            "top": null,
            "visibility": null,
            "width": null
          }
        },
        "fb953d8d116e4cc389dbc23a0055873f": {
          "model_module": "@jupyter-widgets/base",
          "model_module_version": "1.2.0",
          "model_name": "LayoutModel",
          "state": {
            "_model_module": "@jupyter-widgets/base",
            "_model_module_version": "1.2.0",
            "_model_name": "LayoutModel",
            "_view_count": null,
            "_view_module": "@jupyter-widgets/base",
            "_view_module_version": "1.2.0",
            "_view_name": "LayoutView",
            "align_content": null,
            "align_items": null,
            "align_self": null,
            "border": null,
            "bottom": null,
            "display": null,
            "flex": null,
            "flex_flow": null,
            "grid_area": null,
            "grid_auto_columns": null,
            "grid_auto_flow": null,
            "grid_auto_rows": null,
            "grid_column": null,
            "grid_gap": null,
            "grid_row": null,
            "grid_template_areas": null,
            "grid_template_columns": null,
            "grid_template_rows": null,
            "height": null,
            "justify_content": null,
            "justify_items": null,
            "left": null,
            "margin": null,
            "max_height": null,
            "max_width": null,
            "min_height": null,
            "min_width": null,
            "object_fit": null,
            "object_position": null,
            "order": null,
            "overflow": null,
            "overflow_x": null,
            "overflow_y": null,
            "padding": null,
            "right": null,
            "top": null,
            "visibility": null,
            "width": null
          }
        },
        "ffb7c97e7af648aaa13a43427154140e": {
          "model_module": "@jupyter-widgets/controls",
          "model_module_version": "1.5.0",
          "model_name": "FloatProgressModel",
          "state": {
            "_dom_classes": [],
            "_model_module": "@jupyter-widgets/controls",
            "_model_module_version": "1.5.0",
            "_model_name": "FloatProgressModel",
            "_view_count": null,
            "_view_module": "@jupyter-widgets/controls",
            "_view_module_version": "1.5.0",
            "_view_name": "ProgressView",
            "bar_style": "success",
            "description": "",
            "description_tooltip": null,
            "layout": "IPY_MODEL_ed457547dc154f6bbce4ec970bb09c76",
            "max": 1,
            "min": 0,
            "orientation": "horizontal",
            "style": "IPY_MODEL_c9f479f81119450bb451d5830361467c",
            "value": 1
          }
        }
      }
    }
  },
  "nbformat": 4,
  "nbformat_minor": 0
}
